{
 "cells": [
  {
   "cell_type": "code",
   "execution_count": 79,
   "id": "1f273621",
   "metadata": {},
   "outputs": [],
   "source": [
    "import pandas as pd\n",
    "import glob\n",
    "import os\n",
    "from datetime import datetime\n",
    "import matplotlib.pyplot as plt\n",
    "import seaborn as sns\n",
    "import numpy as np"
   ]
  },
  {
   "cell_type": "code",
   "execution_count": 2,
   "id": "1a24f1c5",
   "metadata": {},
   "outputs": [],
   "source": [
    "def readDf():\n",
    "    if not os.path.exists('./concat.csv'):\n",
    "        path = 'C:/Projects/Bootcamp Ödev Cevapları/Untitled Folder/mart-eylül' # get path for all files that used by EDA\n",
    "        all_files = glob.glob(path + \"/*.txt\")\n",
    "        # create empty list and append all files\n",
    "        file_list = []\n",
    "\n",
    "        for filename in all_files:\n",
    "            df = pd.read_csv(filename)\n",
    "            file_list.append(df)\n",
    "\n",
    "        # Concatenate all data into one DataFrame that called \"mta\"\n",
    "        mta = pd.concat(file_list)\n",
    "        mta.columns = mta.columns.str.strip() #In case we have some unwanted spaces\n",
    "        mta.to_csv('concat.csv', index=None)\n",
    "        return mta\n",
    "    else:\n",
    "        return pd.read_csv('concat.csv')"
   ]
  },
  {
   "cell_type": "code",
   "execution_count": 3,
   "id": "88863099",
   "metadata": {},
   "outputs": [],
   "source": [
    "mta = readDf()"
   ]
  },
  {
   "cell_type": "code",
   "execution_count": 4,
   "id": "97129296",
   "metadata": {},
   "outputs": [],
   "source": [
    "mta['DATE_TIME'] = pd.to_datetime(mta[\"DATE\"]+ \" \" + mta[\"TIME\"], format='%m/%d/%Y %H:%M:%S')\n",
    "mta['TURNSTILE'] = mta['C/A'] + ' ' + mta['UNIT'] + ' ' + mta['SCP'] + ' ' + mta['STATION']\n",
    "mta.drop_duplicates(subset=['C/A', 'UNIT', 'SCP', 'STATION', 'DATE_TIME'], inplace=True)"
   ]
  },
  {
   "cell_type": "code",
   "execution_count": 5,
   "id": "26785ea1",
   "metadata": {},
   "outputs": [
    {
     "data": {
      "text/html": [
       "<div>\n",
       "<style scoped>\n",
       "    .dataframe tbody tr th:only-of-type {\n",
       "        vertical-align: middle;\n",
       "    }\n",
       "\n",
       "    .dataframe tbody tr th {\n",
       "        vertical-align: top;\n",
       "    }\n",
       "\n",
       "    .dataframe thead th {\n",
       "        text-align: right;\n",
       "    }\n",
       "</style>\n",
       "<table border=\"1\" class=\"dataframe\">\n",
       "  <thead>\n",
       "    <tr style=\"text-align: right;\">\n",
       "      <th></th>\n",
       "      <th>C/A</th>\n",
       "      <th>UNIT</th>\n",
       "      <th>SCP</th>\n",
       "      <th>STATION</th>\n",
       "      <th>LINENAME</th>\n",
       "      <th>DIVISION</th>\n",
       "      <th>DATE</th>\n",
       "      <th>TIME</th>\n",
       "      <th>DESC</th>\n",
       "      <th>ENTRIES</th>\n",
       "      <th>EXITS</th>\n",
       "      <th>DATE_TIME</th>\n",
       "      <th>TURNSTILE</th>\n",
       "    </tr>\n",
       "  </thead>\n",
       "  <tbody>\n",
       "    <tr>\n",
       "      <th>0</th>\n",
       "      <td>A002</td>\n",
       "      <td>R051</td>\n",
       "      <td>02-00-00</td>\n",
       "      <td>59 ST</td>\n",
       "      <td>NQR456W</td>\n",
       "      <td>BMT</td>\n",
       "      <td>02/27/2021</td>\n",
       "      <td>03:00:00</td>\n",
       "      <td>REGULAR</td>\n",
       "      <td>7537255</td>\n",
       "      <td>2570434</td>\n",
       "      <td>2021-02-27 03:00:00</td>\n",
       "      <td>A002 R051 02-00-00 59 ST</td>\n",
       "    </tr>\n",
       "    <tr>\n",
       "      <th>1</th>\n",
       "      <td>A002</td>\n",
       "      <td>R051</td>\n",
       "      <td>02-00-00</td>\n",
       "      <td>59 ST</td>\n",
       "      <td>NQR456W</td>\n",
       "      <td>BMT</td>\n",
       "      <td>02/27/2021</td>\n",
       "      <td>07:00:00</td>\n",
       "      <td>REGULAR</td>\n",
       "      <td>7537260</td>\n",
       "      <td>2570445</td>\n",
       "      <td>2021-02-27 07:00:00</td>\n",
       "      <td>A002 R051 02-00-00 59 ST</td>\n",
       "    </tr>\n",
       "    <tr>\n",
       "      <th>2</th>\n",
       "      <td>A002</td>\n",
       "      <td>R051</td>\n",
       "      <td>02-00-00</td>\n",
       "      <td>59 ST</td>\n",
       "      <td>NQR456W</td>\n",
       "      <td>BMT</td>\n",
       "      <td>02/27/2021</td>\n",
       "      <td>11:00:00</td>\n",
       "      <td>REGULAR</td>\n",
       "      <td>7537285</td>\n",
       "      <td>2570500</td>\n",
       "      <td>2021-02-27 11:00:00</td>\n",
       "      <td>A002 R051 02-00-00 59 ST</td>\n",
       "    </tr>\n",
       "    <tr>\n",
       "      <th>3</th>\n",
       "      <td>A002</td>\n",
       "      <td>R051</td>\n",
       "      <td>02-00-00</td>\n",
       "      <td>59 ST</td>\n",
       "      <td>NQR456W</td>\n",
       "      <td>BMT</td>\n",
       "      <td>02/27/2021</td>\n",
       "      <td>15:00:00</td>\n",
       "      <td>REGULAR</td>\n",
       "      <td>7537354</td>\n",
       "      <td>2570546</td>\n",
       "      <td>2021-02-27 15:00:00</td>\n",
       "      <td>A002 R051 02-00-00 59 ST</td>\n",
       "    </tr>\n",
       "    <tr>\n",
       "      <th>4</th>\n",
       "      <td>A002</td>\n",
       "      <td>R051</td>\n",
       "      <td>02-00-00</td>\n",
       "      <td>59 ST</td>\n",
       "      <td>NQR456W</td>\n",
       "      <td>BMT</td>\n",
       "      <td>02/27/2021</td>\n",
       "      <td>19:00:00</td>\n",
       "      <td>REGULAR</td>\n",
       "      <td>7537501</td>\n",
       "      <td>2570582</td>\n",
       "      <td>2021-02-27 19:00:00</td>\n",
       "      <td>A002 R051 02-00-00 59 ST</td>\n",
       "    </tr>\n",
       "  </tbody>\n",
       "</table>\n",
       "</div>"
      ],
      "text/plain": [
       "    C/A  UNIT       SCP STATION LINENAME DIVISION        DATE      TIME  \\\n",
       "0  A002  R051  02-00-00   59 ST  NQR456W      BMT  02/27/2021  03:00:00   \n",
       "1  A002  R051  02-00-00   59 ST  NQR456W      BMT  02/27/2021  07:00:00   \n",
       "2  A002  R051  02-00-00   59 ST  NQR456W      BMT  02/27/2021  11:00:00   \n",
       "3  A002  R051  02-00-00   59 ST  NQR456W      BMT  02/27/2021  15:00:00   \n",
       "4  A002  R051  02-00-00   59 ST  NQR456W      BMT  02/27/2021  19:00:00   \n",
       "\n",
       "      DESC  ENTRIES    EXITS           DATE_TIME                 TURNSTILE  \n",
       "0  REGULAR  7537255  2570434 2021-02-27 03:00:00  A002 R051 02-00-00 59 ST  \n",
       "1  REGULAR  7537260  2570445 2021-02-27 07:00:00  A002 R051 02-00-00 59 ST  \n",
       "2  REGULAR  7537285  2570500 2021-02-27 11:00:00  A002 R051 02-00-00 59 ST  \n",
       "3  REGULAR  7537354  2570546 2021-02-27 15:00:00  A002 R051 02-00-00 59 ST  \n",
       "4  REGULAR  7537501  2570582 2021-02-27 19:00:00  A002 R051 02-00-00 59 ST  "
      ]
     },
     "execution_count": 5,
     "metadata": {},
     "output_type": "execute_result"
    }
   ],
   "source": [
    "mta.head()"
   ]
  },
  {
   "cell_type": "code",
   "execution_count": 6,
   "id": "2491852f",
   "metadata": {},
   "outputs": [
    {
     "name": "stdout",
     "output_type": "stream",
     "text": [
      "<class 'pandas.core.frame.DataFrame'>\n",
      "Int64Index: 6279677 entries, 0 to 6279882\n",
      "Data columns (total 13 columns):\n",
      " #   Column     Dtype         \n",
      "---  ------     -----         \n",
      " 0   C/A        object        \n",
      " 1   UNIT       object        \n",
      " 2   SCP        object        \n",
      " 3   STATION    object        \n",
      " 4   LINENAME   object        \n",
      " 5   DIVISION   object        \n",
      " 6   DATE       object        \n",
      " 7   TIME       object        \n",
      " 8   DESC       object        \n",
      " 9   ENTRIES    int64         \n",
      " 10  EXITS      int64         \n",
      " 11  DATE_TIME  datetime64[ns]\n",
      " 12  TURNSTILE  object        \n",
      "dtypes: datetime64[ns](1), int64(2), object(10)\n",
      "memory usage: 670.7+ MB\n"
     ]
    }
   ],
   "source": [
    "mta.info()"
   ]
  },
  {
   "cell_type": "code",
   "execution_count": 7,
   "id": "b05b597c",
   "metadata": {},
   "outputs": [
    {
     "data": {
      "text/plain": [
       "(6279677, 13)"
      ]
     },
     "execution_count": 7,
     "metadata": {},
     "output_type": "execute_result"
    }
   ],
   "source": [
    "mta.shape"
   ]
  },
  {
   "cell_type": "code",
   "execution_count": 8,
   "id": "f6ae73fa",
   "metadata": {},
   "outputs": [
    {
     "data": {
      "text/plain": [
       "Index(['C/A', 'UNIT', 'SCP', 'STATION', 'LINENAME', 'DIVISION', 'DATE', 'TIME',\n",
       "       'DESC', 'ENTRIES', 'EXITS', 'DATE_TIME', 'TURNSTILE'],\n",
       "      dtype='object')"
      ]
     },
     "execution_count": 8,
     "metadata": {},
     "output_type": "execute_result"
    }
   ],
   "source": [
    "mta.columns"
   ]
  },
  {
   "cell_type": "code",
   "execution_count": 9,
   "id": "15af6d79",
   "metadata": {},
   "outputs": [
    {
     "data": {
      "text/plain": [
       "C/A          0\n",
       "UNIT         0\n",
       "SCP          0\n",
       "STATION      0\n",
       "LINENAME     0\n",
       "DIVISION     0\n",
       "DATE         0\n",
       "TIME         0\n",
       "DESC         0\n",
       "ENTRIES      0\n",
       "EXITS        0\n",
       "DATE_TIME    0\n",
       "TURNSTILE    0\n",
       "dtype: int64"
      ]
     },
     "execution_count": 9,
     "metadata": {},
     "output_type": "execute_result"
    }
   ],
   "source": [
    "#Checking null values based on columns\n",
    "\n",
    "mta.isnull().sum()"
   ]
  },
  {
   "cell_type": "code",
   "execution_count": 10,
   "id": "d553a1a9",
   "metadata": {},
   "outputs": [
    {
     "data": {
      "text/html": [
       "<div>\n",
       "<style scoped>\n",
       "    .dataframe tbody tr th:only-of-type {\n",
       "        vertical-align: middle;\n",
       "    }\n",
       "\n",
       "    .dataframe tbody tr th {\n",
       "        vertical-align: top;\n",
       "    }\n",
       "\n",
       "    .dataframe thead th {\n",
       "        text-align: right;\n",
       "    }\n",
       "</style>\n",
       "<table border=\"1\" class=\"dataframe\">\n",
       "  <thead>\n",
       "    <tr style=\"text-align: right;\">\n",
       "      <th></th>\n",
       "      <th>ENTRIES</th>\n",
       "      <th>EXITS</th>\n",
       "    </tr>\n",
       "  </thead>\n",
       "  <tbody>\n",
       "    <tr>\n",
       "      <th>count</th>\n",
       "      <td>6.279677e+06</td>\n",
       "      <td>6.279677e+06</td>\n",
       "    </tr>\n",
       "    <tr>\n",
       "      <th>mean</th>\n",
       "      <td>4.173093e+07</td>\n",
       "      <td>3.346020e+07</td>\n",
       "    </tr>\n",
       "    <tr>\n",
       "      <th>std</th>\n",
       "      <td>2.183711e+08</td>\n",
       "      <td>1.926419e+08</td>\n",
       "    </tr>\n",
       "    <tr>\n",
       "      <th>min</th>\n",
       "      <td>0.000000e+00</td>\n",
       "      <td>0.000000e+00</td>\n",
       "    </tr>\n",
       "    <tr>\n",
       "      <th>25%</th>\n",
       "      <td>2.188090e+05</td>\n",
       "      <td>9.744800e+04</td>\n",
       "    </tr>\n",
       "    <tr>\n",
       "      <th>50%</th>\n",
       "      <td>1.424042e+06</td>\n",
       "      <td>8.612790e+05</td>\n",
       "    </tr>\n",
       "    <tr>\n",
       "      <th>75%</th>\n",
       "      <td>6.052079e+06</td>\n",
       "      <td>3.990674e+06</td>\n",
       "    </tr>\n",
       "    <tr>\n",
       "      <th>max</th>\n",
       "      <td>2.147432e+09</td>\n",
       "      <td>2.133797e+09</td>\n",
       "    </tr>\n",
       "  </tbody>\n",
       "</table>\n",
       "</div>"
      ],
      "text/plain": [
       "            ENTRIES         EXITS\n",
       "count  6.279677e+06  6.279677e+06\n",
       "mean   4.173093e+07  3.346020e+07\n",
       "std    2.183711e+08  1.926419e+08\n",
       "min    0.000000e+00  0.000000e+00\n",
       "25%    2.188090e+05  9.744800e+04\n",
       "50%    1.424042e+06  8.612790e+05\n",
       "75%    6.052079e+06  3.990674e+06\n",
       "max    2.147432e+09  2.133797e+09"
      ]
     },
     "execution_count": 10,
     "metadata": {},
     "output_type": "execute_result"
    }
   ],
   "source": [
    "mta.describe()"
   ]
  },
  {
   "cell_type": "code",
   "execution_count": 11,
   "id": "9e93c1b4",
   "metadata": {},
   "outputs": [
    {
     "data": {
      "text/plain": [
       "REGULAR       6252548\n",
       "RECOVR AUD      27129\n",
       "Name: DESC, dtype: int64"
      ]
     },
     "execution_count": 11,
     "metadata": {},
     "output_type": "execute_result"
    }
   ],
   "source": [
    "mta['DESC'].value_counts()"
   ]
  },
  {
   "cell_type": "code",
   "execution_count": 12,
   "id": "7a4b2962",
   "metadata": {},
   "outputs": [],
   "source": [
    "##So we don't want the recovered audits. We want regular ones.\n",
    "#mta= pd.DataFrame(mta[mta.DESC=='REGULAR'])"
   ]
  },
  {
   "cell_type": "code",
   "execution_count": 13,
   "id": "59c03a93",
   "metadata": {},
   "outputs": [
    {
     "data": {
      "text/plain": [
       "REGULAR       6252548\n",
       "RECOVR AUD      27129\n",
       "Name: DESC, dtype: int64"
      ]
     },
     "execution_count": 13,
     "metadata": {},
     "output_type": "execute_result"
    }
   ],
   "source": [
    "mta['DESC'].value_counts()"
   ]
  },
  {
   "cell_type": "code",
   "execution_count": 14,
   "id": "ff9fb484",
   "metadata": {},
   "outputs": [],
   "source": [
    "mta['ENTRIES'] = mta['ENTRIES'].astype('int')\n",
    "mta['EXITS'] = mta['EXITS'].astype('int')"
   ]
  },
  {
   "cell_type": "code",
   "execution_count": 15,
   "id": "4ab91acd",
   "metadata": {},
   "outputs": [],
   "source": [
    "mta['WEEKDAY'] = mta[\"DATE_TIME\"].dt.day_name()"
   ]
  },
  {
   "cell_type": "code",
   "execution_count": 16,
   "id": "bd7aab57",
   "metadata": {
    "scrolled": true
   },
   "outputs": [
    {
     "data": {
      "text/html": [
       "<div>\n",
       "<style scoped>\n",
       "    .dataframe tbody tr th:only-of-type {\n",
       "        vertical-align: middle;\n",
       "    }\n",
       "\n",
       "    .dataframe tbody tr th {\n",
       "        vertical-align: top;\n",
       "    }\n",
       "\n",
       "    .dataframe thead th {\n",
       "        text-align: right;\n",
       "    }\n",
       "</style>\n",
       "<table border=\"1\" class=\"dataframe\">\n",
       "  <thead>\n",
       "    <tr style=\"text-align: right;\">\n",
       "      <th></th>\n",
       "      <th>STATION</th>\n",
       "      <th>TURNSTILE</th>\n",
       "      <th>DATE</th>\n",
       "      <th>TIME</th>\n",
       "      <th>DATE_TIME</th>\n",
       "      <th>WEEKDAY</th>\n",
       "      <th>ENTRIES</th>\n",
       "      <th>EXITS</th>\n",
       "    </tr>\n",
       "  </thead>\n",
       "  <tbody>\n",
       "    <tr>\n",
       "      <th>1679854</th>\n",
       "      <td>CANAL ST</td>\n",
       "      <td>A046 R463 00-00-00 CANAL ST</td>\n",
       "      <td>04/26/2021</td>\n",
       "      <td>13:00:00</td>\n",
       "      <td>2021-04-26 13:00:00</td>\n",
       "      <td>Monday</td>\n",
       "      <td>4266928</td>\n",
       "      <td>428766</td>\n",
       "    </tr>\n",
       "    <tr>\n",
       "      <th>243167</th>\n",
       "      <td>BEDFORD AV</td>\n",
       "      <td>H010 R235 01-00-01 BEDFORD AV</td>\n",
       "      <td>03/07/2021</td>\n",
       "      <td>07:00:00</td>\n",
       "      <td>2021-03-07 07:00:00</td>\n",
       "      <td>Sunday</td>\n",
       "      <td>1178576</td>\n",
       "      <td>2688808</td>\n",
       "    </tr>\n",
       "    <tr>\n",
       "      <th>4677025</th>\n",
       "      <td>BEACH 60 ST</td>\n",
       "      <td>N192 R336 00-00-00 BEACH 60 ST</td>\n",
       "      <td>08/06/2021</td>\n",
       "      <td>16:00:00</td>\n",
       "      <td>2021-08-06 16:00:00</td>\n",
       "      <td>Friday</td>\n",
       "      <td>188435</td>\n",
       "      <td>211852</td>\n",
       "    </tr>\n",
       "    <tr>\n",
       "      <th>364603</th>\n",
       "      <td>SPRING ST</td>\n",
       "      <td>R215 R322 00-00-02 SPRING ST</td>\n",
       "      <td>03/10/2021</td>\n",
       "      <td>11:00:00</td>\n",
       "      <td>2021-03-10 11:00:00</td>\n",
       "      <td>Wednesday</td>\n",
       "      <td>14259831</td>\n",
       "      <td>2293614</td>\n",
       "    </tr>\n",
       "    <tr>\n",
       "      <th>1121413</th>\n",
       "      <td>FORDHAM RD</td>\n",
       "      <td>N217 R112 00-00-02 FORDHAM RD</td>\n",
       "      <td>04/06/2021</td>\n",
       "      <td>12:00:00</td>\n",
       "      <td>2021-04-06 12:00:00</td>\n",
       "      <td>Tuesday</td>\n",
       "      <td>19398361</td>\n",
       "      <td>4591509</td>\n",
       "    </tr>\n",
       "  </tbody>\n",
       "</table>\n",
       "</div>"
      ],
      "text/plain": [
       "             STATION                       TURNSTILE        DATE      TIME  \\\n",
       "1679854     CANAL ST     A046 R463 00-00-00 CANAL ST  04/26/2021  13:00:00   \n",
       "243167    BEDFORD AV   H010 R235 01-00-01 BEDFORD AV  03/07/2021  07:00:00   \n",
       "4677025  BEACH 60 ST  N192 R336 00-00-00 BEACH 60 ST  08/06/2021  16:00:00   \n",
       "364603     SPRING ST    R215 R322 00-00-02 SPRING ST  03/10/2021  11:00:00   \n",
       "1121413   FORDHAM RD   N217 R112 00-00-02 FORDHAM RD  04/06/2021  12:00:00   \n",
       "\n",
       "                  DATE_TIME    WEEKDAY   ENTRIES    EXITS  \n",
       "1679854 2021-04-26 13:00:00     Monday   4266928   428766  \n",
       "243167  2021-03-07 07:00:00     Sunday   1178576  2688808  \n",
       "4677025 2021-08-06 16:00:00     Friday    188435   211852  \n",
       "364603  2021-03-10 11:00:00  Wednesday  14259831  2293614  \n",
       "1121413 2021-04-06 12:00:00    Tuesday  19398361  4591509  "
      ]
     },
     "execution_count": 16,
     "metadata": {},
     "output_type": "execute_result"
    }
   ],
   "source": [
    "mta = mta[[\"STATION\",\"TURNSTILE\",\"DATE\",\"TIME\",\"DATE_TIME\",\"WEEKDAY\",\"ENTRIES\",\"EXITS\"]]\n",
    "mta.sample(5)"
   ]
  },
  {
   "cell_type": "code",
   "execution_count": 17,
   "id": "7fb23a82",
   "metadata": {},
   "outputs": [],
   "source": [
    "mta = mta"
   ]
  },
  {
   "cell_type": "code",
   "execution_count": 18,
   "id": "b367d623",
   "metadata": {},
   "outputs": [
    {
     "data": {
      "text/html": [
       "<div>\n",
       "<style scoped>\n",
       "    .dataframe tbody tr th:only-of-type {\n",
       "        vertical-align: middle;\n",
       "    }\n",
       "\n",
       "    .dataframe tbody tr th {\n",
       "        vertical-align: top;\n",
       "    }\n",
       "\n",
       "    .dataframe thead th {\n",
       "        text-align: right;\n",
       "    }\n",
       "</style>\n",
       "<table border=\"1\" class=\"dataframe\">\n",
       "  <thead>\n",
       "    <tr style=\"text-align: right;\">\n",
       "      <th></th>\n",
       "      <th>STATION</th>\n",
       "      <th>TURNSTILE</th>\n",
       "      <th>DATE</th>\n",
       "      <th>TIME</th>\n",
       "      <th>DATE_TIME</th>\n",
       "      <th>WEEKDAY</th>\n",
       "      <th>ENTRIES</th>\n",
       "      <th>EXITS</th>\n",
       "    </tr>\n",
       "  </thead>\n",
       "  <tbody>\n",
       "    <tr>\n",
       "      <th>0</th>\n",
       "      <td>59 ST</td>\n",
       "      <td>A002 R051 02-00-00 59 ST</td>\n",
       "      <td>02/27/2021</td>\n",
       "      <td>03:00:00</td>\n",
       "      <td>2021-02-27 03:00:00</td>\n",
       "      <td>Saturday</td>\n",
       "      <td>7537255</td>\n",
       "      <td>2570434</td>\n",
       "    </tr>\n",
       "    <tr>\n",
       "      <th>1</th>\n",
       "      <td>59 ST</td>\n",
       "      <td>A002 R051 02-00-00 59 ST</td>\n",
       "      <td>02/27/2021</td>\n",
       "      <td>07:00:00</td>\n",
       "      <td>2021-02-27 07:00:00</td>\n",
       "      <td>Saturday</td>\n",
       "      <td>7537260</td>\n",
       "      <td>2570445</td>\n",
       "    </tr>\n",
       "    <tr>\n",
       "      <th>2</th>\n",
       "      <td>59 ST</td>\n",
       "      <td>A002 R051 02-00-00 59 ST</td>\n",
       "      <td>02/27/2021</td>\n",
       "      <td>11:00:00</td>\n",
       "      <td>2021-02-27 11:00:00</td>\n",
       "      <td>Saturday</td>\n",
       "      <td>7537285</td>\n",
       "      <td>2570500</td>\n",
       "    </tr>\n",
       "    <tr>\n",
       "      <th>3</th>\n",
       "      <td>59 ST</td>\n",
       "      <td>A002 R051 02-00-00 59 ST</td>\n",
       "      <td>02/27/2021</td>\n",
       "      <td>15:00:00</td>\n",
       "      <td>2021-02-27 15:00:00</td>\n",
       "      <td>Saturday</td>\n",
       "      <td>7537354</td>\n",
       "      <td>2570546</td>\n",
       "    </tr>\n",
       "    <tr>\n",
       "      <th>4</th>\n",
       "      <td>59 ST</td>\n",
       "      <td>A002 R051 02-00-00 59 ST</td>\n",
       "      <td>02/27/2021</td>\n",
       "      <td>19:00:00</td>\n",
       "      <td>2021-02-27 19:00:00</td>\n",
       "      <td>Saturday</td>\n",
       "      <td>7537501</td>\n",
       "      <td>2570582</td>\n",
       "    </tr>\n",
       "  </tbody>\n",
       "</table>\n",
       "</div>"
      ],
      "text/plain": [
       "  STATION                 TURNSTILE        DATE      TIME           DATE_TIME  \\\n",
       "0   59 ST  A002 R051 02-00-00 59 ST  02/27/2021  03:00:00 2021-02-27 03:00:00   \n",
       "1   59 ST  A002 R051 02-00-00 59 ST  02/27/2021  07:00:00 2021-02-27 07:00:00   \n",
       "2   59 ST  A002 R051 02-00-00 59 ST  02/27/2021  11:00:00 2021-02-27 11:00:00   \n",
       "3   59 ST  A002 R051 02-00-00 59 ST  02/27/2021  15:00:00 2021-02-27 15:00:00   \n",
       "4   59 ST  A002 R051 02-00-00 59 ST  02/27/2021  19:00:00 2021-02-27 19:00:00   \n",
       "\n",
       "    WEEKDAY  ENTRIES    EXITS  \n",
       "0  Saturday  7537255  2570434  \n",
       "1  Saturday  7537260  2570445  \n",
       "2  Saturday  7537285  2570500  \n",
       "3  Saturday  7537354  2570546  \n",
       "4  Saturday  7537501  2570582  "
      ]
     },
     "execution_count": 18,
     "metadata": {},
     "output_type": "execute_result"
    }
   ],
   "source": [
    "mta.head()"
   ]
  },
  {
   "cell_type": "code",
   "execution_count": 19,
   "id": "2e50b57e",
   "metadata": {},
   "outputs": [],
   "source": [
    "mta.sort_values(by='DATE_TIME')\n",
    "mta['NO_OF_ENTRIES']= mta['ENTRIES'].diff()\n",
    "mta['NO_OF_EXITS']= mta['EXITS'].diff()"
   ]
  },
  {
   "cell_type": "code",
   "execution_count": 109,
   "id": "f534a482",
   "metadata": {},
   "outputs": [
    {
     "data": {
      "text/html": [
       "<div>\n",
       "<style scoped>\n",
       "    .dataframe tbody tr th:only-of-type {\n",
       "        vertical-align: middle;\n",
       "    }\n",
       "\n",
       "    .dataframe tbody tr th {\n",
       "        vertical-align: top;\n",
       "    }\n",
       "\n",
       "    .dataframe thead th {\n",
       "        text-align: right;\n",
       "    }\n",
       "</style>\n",
       "<table border=\"1\" class=\"dataframe\">\n",
       "  <thead>\n",
       "    <tr style=\"text-align: right;\">\n",
       "      <th></th>\n",
       "      <th>ENTRIES</th>\n",
       "      <th>EXITS</th>\n",
       "      <th>NO_OF_ENTRIES</th>\n",
       "      <th>NO_OF_EXITS</th>\n",
       "      <th>ENTRIES_Z_SCORES</th>\n",
       "      <th>EXITS_Z_SCORES</th>\n",
       "    </tr>\n",
       "  </thead>\n",
       "  <tbody>\n",
       "    <tr>\n",
       "      <th>count</th>\n",
       "      <td>4.891943e+06</td>\n",
       "      <td>4.891943e+06</td>\n",
       "      <td>4.891943e+06</td>\n",
       "      <td>4.891943e+06</td>\n",
       "      <td>4.891943e+06</td>\n",
       "      <td>4.891943e+06</td>\n",
       "    </tr>\n",
       "    <tr>\n",
       "      <th>mean</th>\n",
       "      <td>2.902869e+07</td>\n",
       "      <td>2.219435e+07</td>\n",
       "      <td>1.076650e+06</td>\n",
       "      <td>9.139305e+05</td>\n",
       "      <td>-2.125295e-15</td>\n",
       "      <td>3.096115e-16</td>\n",
       "    </tr>\n",
       "    <tr>\n",
       "      <th>std</th>\n",
       "      <td>1.698419e+08</td>\n",
       "      <td>1.436307e+08</td>\n",
       "      <td>3.680266e+07</td>\n",
       "      <td>3.293928e+07</td>\n",
       "      <td>1.000000e+00</td>\n",
       "      <td>1.000000e+00</td>\n",
       "    </tr>\n",
       "    <tr>\n",
       "      <th>min</th>\n",
       "      <td>1.000000e+00</td>\n",
       "      <td>1.000000e+00</td>\n",
       "      <td>1.000000e+00</td>\n",
       "      <td>1.000000e+00</td>\n",
       "      <td>-2.925465e-02</td>\n",
       "      <td>-2.774589e-02</td>\n",
       "    </tr>\n",
       "    <tr>\n",
       "      <th>25%</th>\n",
       "      <td>3.849310e+05</td>\n",
       "      <td>2.409170e+05</td>\n",
       "      <td>1.200000e+01</td>\n",
       "      <td>1.400000e+01</td>\n",
       "      <td>-2.925436e-02</td>\n",
       "      <td>-2.774549e-02</td>\n",
       "    </tr>\n",
       "    <tr>\n",
       "      <th>50%</th>\n",
       "      <td>2.067457e+06</td>\n",
       "      <td>1.323696e+06</td>\n",
       "      <td>4.200000e+01</td>\n",
       "      <td>4.200000e+01</td>\n",
       "      <td>-2.925354e-02</td>\n",
       "      <td>-2.774464e-02</td>\n",
       "    </tr>\n",
       "    <tr>\n",
       "      <th>75%</th>\n",
       "      <td>6.591576e+06</td>\n",
       "      <td>4.642994e+06</td>\n",
       "      <td>1.020000e+02</td>\n",
       "      <td>1.060000e+02</td>\n",
       "      <td>-2.925191e-02</td>\n",
       "      <td>-2.774270e-02</td>\n",
       "    </tr>\n",
       "    <tr>\n",
       "      <th>max</th>\n",
       "      <td>2.147432e+09</td>\n",
       "      <td>2.133797e+09</td>\n",
       "      <td>2.147040e+09</td>\n",
       "      <td>2.133741e+09</td>\n",
       "      <td>5.831001e+01</td>\n",
       "      <td>6.475026e+01</td>\n",
       "    </tr>\n",
       "  </tbody>\n",
       "</table>\n",
       "</div>"
      ],
      "text/plain": [
       "            ENTRIES         EXITS  NO_OF_ENTRIES   NO_OF_EXITS  \\\n",
       "count  4.891943e+06  4.891943e+06   4.891943e+06  4.891943e+06   \n",
       "mean   2.902869e+07  2.219435e+07   1.076650e+06  9.139305e+05   \n",
       "std    1.698419e+08  1.436307e+08   3.680266e+07  3.293928e+07   \n",
       "min    1.000000e+00  1.000000e+00   1.000000e+00  1.000000e+00   \n",
       "25%    3.849310e+05  2.409170e+05   1.200000e+01  1.400000e+01   \n",
       "50%    2.067457e+06  1.323696e+06   4.200000e+01  4.200000e+01   \n",
       "75%    6.591576e+06  4.642994e+06   1.020000e+02  1.060000e+02   \n",
       "max    2.147432e+09  2.133797e+09   2.147040e+09  2.133741e+09   \n",
       "\n",
       "       ENTRIES_Z_SCORES  EXITS_Z_SCORES  \n",
       "count      4.891943e+06    4.891943e+06  \n",
       "mean      -2.125295e-15    3.096115e-16  \n",
       "std        1.000000e+00    1.000000e+00  \n",
       "min       -2.925465e-02   -2.774589e-02  \n",
       "25%       -2.925436e-02   -2.774549e-02  \n",
       "50%       -2.925354e-02   -2.774464e-02  \n",
       "75%       -2.925191e-02   -2.774270e-02  \n",
       "max        5.831001e+01    6.475026e+01  "
      ]
     },
     "execution_count": 109,
     "metadata": {},
     "output_type": "execute_result"
    }
   ],
   "source": [
    "mta.describe()"
   ]
  },
  {
   "cell_type": "code",
   "execution_count": 119,
   "id": "24713b0d",
   "metadata": {},
   "outputs": [
    {
     "data": {
      "text/html": [
       "<div>\n",
       "<style scoped>\n",
       "    .dataframe tbody tr th:only-of-type {\n",
       "        vertical-align: middle;\n",
       "    }\n",
       "\n",
       "    .dataframe tbody tr th {\n",
       "        vertical-align: top;\n",
       "    }\n",
       "\n",
       "    .dataframe thead th {\n",
       "        text-align: right;\n",
       "    }\n",
       "</style>\n",
       "<table border=\"1\" class=\"dataframe\">\n",
       "  <thead>\n",
       "    <tr style=\"text-align: right;\">\n",
       "      <th></th>\n",
       "      <th>STATION</th>\n",
       "      <th>TURNSTILE</th>\n",
       "      <th>DATE</th>\n",
       "      <th>TIME</th>\n",
       "      <th>DATE_TIME</th>\n",
       "      <th>WEEKDAY</th>\n",
       "      <th>ENTRIES</th>\n",
       "      <th>EXITS</th>\n",
       "      <th>NO_OF_ENTRIES</th>\n",
       "      <th>NO_OF_EXITS</th>\n",
       "      <th>ENTRIES_Z_SCORES</th>\n",
       "      <th>EXITS_Z_SCORES</th>\n",
       "    </tr>\n",
       "  </thead>\n",
       "  <tbody>\n",
       "    <tr>\n",
       "      <th>2904803</th>\n",
       "      <td>QUEENSBORO PLZ</td>\n",
       "      <td>R509 R121 00-00-05 QUEENSBORO PLZ</td>\n",
       "      <td>06/01/2021</td>\n",
       "      <td>04:00:00</td>\n",
       "      <td>2021-06-01 04:00:00</td>\n",
       "      <td>Tuesday</td>\n",
       "      <td>1573818</td>\n",
       "      <td>510062</td>\n",
       "      <td>1.000000e+00</td>\n",
       "      <td>1.0</td>\n",
       "      <td>-0.029255</td>\n",
       "      <td>-0.027746</td>\n",
       "    </tr>\n",
       "    <tr>\n",
       "      <th>164094</th>\n",
       "      <td>51 ST</td>\n",
       "      <td>R242A R049 02-00-01 51 ST</td>\n",
       "      <td>03/03/2021</td>\n",
       "      <td>03:00:00</td>\n",
       "      <td>2021-03-03 03:00:00</td>\n",
       "      <td>Wednesday</td>\n",
       "      <td>391160</td>\n",
       "      <td>865129</td>\n",
       "      <td>1.000000e+00</td>\n",
       "      <td>1.0</td>\n",
       "      <td>-0.029255</td>\n",
       "      <td>-0.027746</td>\n",
       "    </tr>\n",
       "    <tr>\n",
       "      <th>4547301</th>\n",
       "      <td>FULTON ST</td>\n",
       "      <td>R205A R014 04-02-01 FULTON ST</td>\n",
       "      <td>07/28/2021</td>\n",
       "      <td>05:00:00</td>\n",
       "      <td>2021-07-28 05:00:00</td>\n",
       "      <td>Wednesday</td>\n",
       "      <td>2978284</td>\n",
       "      <td>690975</td>\n",
       "      <td>1.000000e+00</td>\n",
       "      <td>2.0</td>\n",
       "      <td>-0.029255</td>\n",
       "      <td>-0.027746</td>\n",
       "    </tr>\n",
       "    <tr>\n",
       "      <th>5592894</th>\n",
       "      <td>WALL ST</td>\n",
       "      <td>R204 R043 02-00-01 WALL ST</td>\n",
       "      <td>09/02/2021</td>\n",
       "      <td>06:00:00</td>\n",
       "      <td>2021-09-02 06:00:00</td>\n",
       "      <td>Thursday</td>\n",
       "      <td>492319</td>\n",
       "      <td>1098826</td>\n",
       "      <td>1.000000e+00</td>\n",
       "      <td>3.0</td>\n",
       "      <td>-0.029255</td>\n",
       "      <td>-0.027746</td>\n",
       "    </tr>\n",
       "    <tr>\n",
       "      <th>4547295</th>\n",
       "      <td>FULTON ST</td>\n",
       "      <td>R205A R014 04-02-01 FULTON ST</td>\n",
       "      <td>07/27/2021</td>\n",
       "      <td>05:00:00</td>\n",
       "      <td>2021-07-27 05:00:00</td>\n",
       "      <td>Tuesday</td>\n",
       "      <td>2978015</td>\n",
       "      <td>690837</td>\n",
       "      <td>1.000000e+00</td>\n",
       "      <td>3.0</td>\n",
       "      <td>-0.029255</td>\n",
       "      <td>-0.027746</td>\n",
       "    </tr>\n",
       "    <tr>\n",
       "      <th>...</th>\n",
       "      <td>...</td>\n",
       "      <td>...</td>\n",
       "      <td>...</td>\n",
       "      <td>...</td>\n",
       "      <td>...</td>\n",
       "      <td>...</td>\n",
       "      <td>...</td>\n",
       "      <td>...</td>\n",
       "      <td>...</td>\n",
       "      <td>...</td>\n",
       "      <td>...</td>\n",
       "      <td>...</td>\n",
       "    </tr>\n",
       "    <tr>\n",
       "      <th>2339622</th>\n",
       "      <td>HEWES ST</td>\n",
       "      <td>J003 R352 00-00-00 HEWES ST</td>\n",
       "      <td>05/15/2021</td>\n",
       "      <td>01:00:00</td>\n",
       "      <td>2021-05-15 01:00:00</td>\n",
       "      <td>Saturday</td>\n",
       "      <td>2147422395</td>\n",
       "      <td>671151133</td>\n",
       "      <td>2.147025e+09</td>\n",
       "      <td>670705666.0</td>\n",
       "      <td>58.309616</td>\n",
       "      <td>20.334133</td>\n",
       "    </tr>\n",
       "    <tr>\n",
       "      <th>2130527</th>\n",
       "      <td>HEWES ST</td>\n",
       "      <td>J003 R352 00-00-00 HEWES ST</td>\n",
       "      <td>05/08/2021</td>\n",
       "      <td>01:00:00</td>\n",
       "      <td>2021-05-08 01:00:00</td>\n",
       "      <td>Saturday</td>\n",
       "      <td>2147424891</td>\n",
       "      <td>671149995</td>\n",
       "      <td>2.147029e+09</td>\n",
       "      <td>670706649.0</td>\n",
       "      <td>58.309710</td>\n",
       "      <td>20.334163</td>\n",
       "    </tr>\n",
       "    <tr>\n",
       "      <th>1921506</th>\n",
       "      <td>HEWES ST</td>\n",
       "      <td>J003 R352 00-00-00 HEWES ST</td>\n",
       "      <td>05/01/2021</td>\n",
       "      <td>01:00:00</td>\n",
       "      <td>2021-05-01 01:00:00</td>\n",
       "      <td>Saturday</td>\n",
       "      <td>2147427392</td>\n",
       "      <td>671148742</td>\n",
       "      <td>2.147033e+09</td>\n",
       "      <td>670708200.0</td>\n",
       "      <td>58.309815</td>\n",
       "      <td>20.334210</td>\n",
       "    </tr>\n",
       "    <tr>\n",
       "      <th>1712257</th>\n",
       "      <td>HEWES ST</td>\n",
       "      <td>J003 R352 00-00-00 HEWES ST</td>\n",
       "      <td>04/24/2021</td>\n",
       "      <td>01:00:00</td>\n",
       "      <td>2021-04-24 01:00:00</td>\n",
       "      <td>Saturday</td>\n",
       "      <td>2147429816</td>\n",
       "      <td>671147622</td>\n",
       "      <td>2.147037e+09</td>\n",
       "      <td>670709819.0</td>\n",
       "      <td>58.309917</td>\n",
       "      <td>20.334259</td>\n",
       "    </tr>\n",
       "    <tr>\n",
       "      <th>1503284</th>\n",
       "      <td>HEWES ST</td>\n",
       "      <td>J003 R352 00-00-00 HEWES ST</td>\n",
       "      <td>04/17/2021</td>\n",
       "      <td>01:00:00</td>\n",
       "      <td>2021-04-17 01:00:00</td>\n",
       "      <td>Saturday</td>\n",
       "      <td>2147432311</td>\n",
       "      <td>671146430</td>\n",
       "      <td>2.147040e+09</td>\n",
       "      <td>670710916.0</td>\n",
       "      <td>58.310012</td>\n",
       "      <td>20.334293</td>\n",
       "    </tr>\n",
       "  </tbody>\n",
       "</table>\n",
       "<p>4891943 rows × 12 columns</p>\n",
       "</div>"
      ],
      "text/plain": [
       "                STATION                          TURNSTILE        DATE  \\\n",
       "2904803  QUEENSBORO PLZ  R509 R121 00-00-05 QUEENSBORO PLZ  06/01/2021   \n",
       "164094            51 ST          R242A R049 02-00-01 51 ST  03/03/2021   \n",
       "4547301       FULTON ST      R205A R014 04-02-01 FULTON ST  07/28/2021   \n",
       "5592894         WALL ST         R204 R043 02-00-01 WALL ST  09/02/2021   \n",
       "4547295       FULTON ST      R205A R014 04-02-01 FULTON ST  07/27/2021   \n",
       "...                 ...                                ...         ...   \n",
       "2339622        HEWES ST        J003 R352 00-00-00 HEWES ST  05/15/2021   \n",
       "2130527        HEWES ST        J003 R352 00-00-00 HEWES ST  05/08/2021   \n",
       "1921506        HEWES ST        J003 R352 00-00-00 HEWES ST  05/01/2021   \n",
       "1712257        HEWES ST        J003 R352 00-00-00 HEWES ST  04/24/2021   \n",
       "1503284        HEWES ST        J003 R352 00-00-00 HEWES ST  04/17/2021   \n",
       "\n",
       "             TIME           DATE_TIME    WEEKDAY     ENTRIES      EXITS  \\\n",
       "2904803  04:00:00 2021-06-01 04:00:00    Tuesday     1573818     510062   \n",
       "164094   03:00:00 2021-03-03 03:00:00  Wednesday      391160     865129   \n",
       "4547301  05:00:00 2021-07-28 05:00:00  Wednesday     2978284     690975   \n",
       "5592894  06:00:00 2021-09-02 06:00:00   Thursday      492319    1098826   \n",
       "4547295  05:00:00 2021-07-27 05:00:00    Tuesday     2978015     690837   \n",
       "...           ...                 ...        ...         ...        ...   \n",
       "2339622  01:00:00 2021-05-15 01:00:00   Saturday  2147422395  671151133   \n",
       "2130527  01:00:00 2021-05-08 01:00:00   Saturday  2147424891  671149995   \n",
       "1921506  01:00:00 2021-05-01 01:00:00   Saturday  2147427392  671148742   \n",
       "1712257  01:00:00 2021-04-24 01:00:00   Saturday  2147429816  671147622   \n",
       "1503284  01:00:00 2021-04-17 01:00:00   Saturday  2147432311  671146430   \n",
       "\n",
       "         NO_OF_ENTRIES  NO_OF_EXITS  ENTRIES_Z_SCORES  EXITS_Z_SCORES  \n",
       "2904803   1.000000e+00          1.0         -0.029255       -0.027746  \n",
       "164094    1.000000e+00          1.0         -0.029255       -0.027746  \n",
       "4547301   1.000000e+00          2.0         -0.029255       -0.027746  \n",
       "5592894   1.000000e+00          3.0         -0.029255       -0.027746  \n",
       "4547295   1.000000e+00          3.0         -0.029255       -0.027746  \n",
       "...                ...          ...               ...             ...  \n",
       "2339622   2.147025e+09  670705666.0         58.309616       20.334133  \n",
       "2130527   2.147029e+09  670706649.0         58.309710       20.334163  \n",
       "1921506   2.147033e+09  670708200.0         58.309815       20.334210  \n",
       "1712257   2.147037e+09  670709819.0         58.309917       20.334259  \n",
       "1503284   2.147040e+09  670710916.0         58.310012       20.334293  \n",
       "\n",
       "[4891943 rows x 12 columns]"
      ]
     },
     "execution_count": 119,
     "metadata": {},
     "output_type": "execute_result"
    }
   ],
   "source": [
    "mta.sort_values(by='NO_OF_ENTRIES')"
   ]
  },
  {
   "cell_type": "code",
   "execution_count": 20,
   "id": "d04936c1",
   "metadata": {},
   "outputs": [
    {
     "data": {
      "text/html": [
       "<div>\n",
       "<style scoped>\n",
       "    .dataframe tbody tr th:only-of-type {\n",
       "        vertical-align: middle;\n",
       "    }\n",
       "\n",
       "    .dataframe tbody tr th {\n",
       "        vertical-align: top;\n",
       "    }\n",
       "\n",
       "    .dataframe thead th {\n",
       "        text-align: right;\n",
       "    }\n",
       "</style>\n",
       "<table border=\"1\" class=\"dataframe\">\n",
       "  <thead>\n",
       "    <tr style=\"text-align: right;\">\n",
       "      <th></th>\n",
       "      <th>STATION</th>\n",
       "      <th>TURNSTILE</th>\n",
       "      <th>DATE</th>\n",
       "      <th>TIME</th>\n",
       "      <th>DATE_TIME</th>\n",
       "      <th>WEEKDAY</th>\n",
       "      <th>ENTRIES</th>\n",
       "      <th>EXITS</th>\n",
       "      <th>NO_OF_ENTRIES</th>\n",
       "      <th>NO_OF_EXITS</th>\n",
       "    </tr>\n",
       "  </thead>\n",
       "  <tbody>\n",
       "    <tr>\n",
       "      <th>0</th>\n",
       "      <td>59 ST</td>\n",
       "      <td>A002 R051 02-00-00 59 ST</td>\n",
       "      <td>02/27/2021</td>\n",
       "      <td>03:00:00</td>\n",
       "      <td>2021-02-27 03:00:00</td>\n",
       "      <td>Saturday</td>\n",
       "      <td>7537255</td>\n",
       "      <td>2570434</td>\n",
       "      <td>NaN</td>\n",
       "      <td>NaN</td>\n",
       "    </tr>\n",
       "    <tr>\n",
       "      <th>1</th>\n",
       "      <td>59 ST</td>\n",
       "      <td>A002 R051 02-00-00 59 ST</td>\n",
       "      <td>02/27/2021</td>\n",
       "      <td>07:00:00</td>\n",
       "      <td>2021-02-27 07:00:00</td>\n",
       "      <td>Saturday</td>\n",
       "      <td>7537260</td>\n",
       "      <td>2570445</td>\n",
       "      <td>5.0</td>\n",
       "      <td>11.0</td>\n",
       "    </tr>\n",
       "    <tr>\n",
       "      <th>2</th>\n",
       "      <td>59 ST</td>\n",
       "      <td>A002 R051 02-00-00 59 ST</td>\n",
       "      <td>02/27/2021</td>\n",
       "      <td>11:00:00</td>\n",
       "      <td>2021-02-27 11:00:00</td>\n",
       "      <td>Saturday</td>\n",
       "      <td>7537285</td>\n",
       "      <td>2570500</td>\n",
       "      <td>25.0</td>\n",
       "      <td>55.0</td>\n",
       "    </tr>\n",
       "    <tr>\n",
       "      <th>3</th>\n",
       "      <td>59 ST</td>\n",
       "      <td>A002 R051 02-00-00 59 ST</td>\n",
       "      <td>02/27/2021</td>\n",
       "      <td>15:00:00</td>\n",
       "      <td>2021-02-27 15:00:00</td>\n",
       "      <td>Saturday</td>\n",
       "      <td>7537354</td>\n",
       "      <td>2570546</td>\n",
       "      <td>69.0</td>\n",
       "      <td>46.0</td>\n",
       "    </tr>\n",
       "    <tr>\n",
       "      <th>4</th>\n",
       "      <td>59 ST</td>\n",
       "      <td>A002 R051 02-00-00 59 ST</td>\n",
       "      <td>02/27/2021</td>\n",
       "      <td>19:00:00</td>\n",
       "      <td>2021-02-27 19:00:00</td>\n",
       "      <td>Saturday</td>\n",
       "      <td>7537501</td>\n",
       "      <td>2570582</td>\n",
       "      <td>147.0</td>\n",
       "      <td>36.0</td>\n",
       "    </tr>\n",
       "  </tbody>\n",
       "</table>\n",
       "</div>"
      ],
      "text/plain": [
       "  STATION                 TURNSTILE        DATE      TIME           DATE_TIME  \\\n",
       "0   59 ST  A002 R051 02-00-00 59 ST  02/27/2021  03:00:00 2021-02-27 03:00:00   \n",
       "1   59 ST  A002 R051 02-00-00 59 ST  02/27/2021  07:00:00 2021-02-27 07:00:00   \n",
       "2   59 ST  A002 R051 02-00-00 59 ST  02/27/2021  11:00:00 2021-02-27 11:00:00   \n",
       "3   59 ST  A002 R051 02-00-00 59 ST  02/27/2021  15:00:00 2021-02-27 15:00:00   \n",
       "4   59 ST  A002 R051 02-00-00 59 ST  02/27/2021  19:00:00 2021-02-27 19:00:00   \n",
       "\n",
       "    WEEKDAY  ENTRIES    EXITS  NO_OF_ENTRIES  NO_OF_EXITS  \n",
       "0  Saturday  7537255  2570434            NaN          NaN  \n",
       "1  Saturday  7537260  2570445            5.0         11.0  \n",
       "2  Saturday  7537285  2570500           25.0         55.0  \n",
       "3  Saturday  7537354  2570546           69.0         46.0  \n",
       "4  Saturday  7537501  2570582          147.0         36.0  "
      ]
     },
     "execution_count": 20,
     "metadata": {},
     "output_type": "execute_result"
    }
   ],
   "source": [
    "mta.head()"
   ]
  },
  {
   "cell_type": "code",
   "execution_count": 21,
   "id": "de601bc1",
   "metadata": {},
   "outputs": [
    {
     "data": {
      "text/plain": [
       "<matplotlib.collections.PathCollection at 0x18b08749820>"
      ]
     },
     "execution_count": 21,
     "metadata": {},
     "output_type": "execute_result"
    },
    {
     "data": {
      "image/png": "[encoded data removed]",
      "text/plain": [
       "<Figure size 432x288 with 1 Axes>"
      ]
     },
     "metadata": {
      "needs_background": "light"
     },
     "output_type": "display_data"
    }
   ],
   "source": [
    "plt.scatter(mta['NO_OF_ENTRIES'],mta['NO_OF_EXITS'])"
   ]
  },
  {
   "cell_type": "code",
   "execution_count": 22,
   "id": "448b95a4",
   "metadata": {},
   "outputs": [],
   "source": [
    "mask_negatives = (mta.NO_OF_ENTRIES >0) & (mta.NO_OF_EXITS >0)"
   ]
  },
  {
   "cell_type": "code",
   "execution_count": 23,
   "id": "a51d339e",
   "metadata": {},
   "outputs": [],
   "source": [
    "mta = mta[mask_negatives]"
   ]
  },
  {
   "cell_type": "code",
   "execution_count": 24,
   "id": "984dc932",
   "metadata": {},
   "outputs": [
    {
     "name": "stdout",
     "output_type": "stream",
     "text": [
      "no of exits : 0      no of entries : 0\n"
     ]
    }
   ],
   "source": [
    "count = (mta.NO_OF_EXITS < 0).sum()\n",
    "count2 = (mta.NO_OF_ENTRIES < 0).sum()\n",
    "print(\"no of exits :\",count,\"   \",\" no of entries :\", count2)"
   ]
  },
  {
   "cell_type": "code",
   "execution_count": 25,
   "id": "13a5524f",
   "metadata": {},
   "outputs": [
    {
     "data": {
      "text/plain": [
       "<matplotlib.collections.PathCollection at 0x18b09437370>"
      ]
     },
     "execution_count": 25,
     "metadata": {},
     "output_type": "execute_result"
    },
    {
     "data": {
      "image/png": "[encoded data removed]",
      "text/plain": [
       "<Figure size 432x288 with 1 Axes>"
      ]
     },
     "metadata": {
      "needs_background": "light"
     },
     "output_type": "display_data"
    }
   ],
   "source": [
    "plt.scatter(mta['NO_OF_ENTRIES'],mta['NO_OF_EXITS'])"
   ]
  },
  {
   "cell_type": "code",
   "execution_count": 99,
   "id": "fe4b4286",
   "metadata": {},
   "outputs": [
    {
     "data": {
      "text/plain": [
       "1076650.0011422865"
      ]
     },
     "execution_count": 99,
     "metadata": {},
     "output_type": "execute_result"
    }
   ],
   "source": [
    "mta['NO_OF_ENTRIES'].mean()"
   ]
  },
  {
   "cell_type": "code",
   "execution_count": 100,
   "id": "7ba816c6",
   "metadata": {},
   "outputs": [
    {
     "data": {
      "text/plain": [
       "913930.5307901176"
      ]
     },
     "execution_count": 100,
     "metadata": {},
     "output_type": "execute_result"
    }
   ],
   "source": [
    "mta['NO_OF_EXITS'].mean()"
   ]
  },
  {
   "cell_type": "code",
   "execution_count": 105,
   "id": "f8904776",
   "metadata": {},
   "outputs": [],
   "source": [
    "entries_low = mta[\"NO_OF_ENTRIES\"].quantile(0.015)\n",
    "entries_hi  = mta[\"NO_OF_ENTRIES\"].quantile(0.90)\n",
    "exits_low = mta[\"NO_OF_EXITS\"].quantile(0.015)\n",
    "exits_hi  = mta[\"NO_OF_EXITS\"].quantile(0.90)"
   ]
  },
  {
   "cell_type": "code",
   "execution_count": 106,
   "id": "c94a3031",
   "metadata": {},
   "outputs": [],
   "source": [
    "mta_filtered = mta[(mta[\"NO_OF_ENTRIES\"] < entries_hi) & (mta[\"NO_OF_EXITS\"] < exits_hi)  ]"
   ]
  },
  {
   "cell_type": "code",
   "execution_count": null,
   "id": "e933da1d",
   "metadata": {},
   "outputs": [],
   "source": []
  },
  {
   "cell_type": "code",
   "execution_count": 107,
   "id": "21206863",
   "metadata": {},
   "outputs": [
    {
     "data": {
      "text/plain": [
       "<matplotlib.collections.PathCollection at 0x18c2a996580>"
      ]
     },
     "execution_count": 107,
     "metadata": {},
     "output_type": "execute_result"
    },
    {
     "data": {
      "image/png": "[encoded data removed]",
      "text/plain": [
       "<Figure size 432x288 with 1 Axes>"
      ]
     },
     "metadata": {
      "needs_background": "light"
     },
     "output_type": "display_data"
    }
   ],
   "source": [
    "plt.scatter(mta_filtered['NO_OF_ENTRIES'],mta_filtered['NO_OF_EXITS'])"
   ]
  },
  {
   "cell_type": "code",
   "execution_count": 108,
   "id": "a15715f2",
   "metadata": {},
   "outputs": [
    {
     "data": {
      "text/plain": [
       "214.0"
      ]
     },
     "execution_count": 108,
     "metadata": {},
     "output_type": "execute_result"
    }
   ],
   "source": [
    "mta_filtered.NO_OF_EXITS.max()"
   ]
  },
  {
   "cell_type": "code",
   "execution_count": 69,
   "id": "8870a07a",
   "metadata": {},
   "outputs": [
    {
     "name": "stderr",
     "output_type": "stream",
     "text": [
      "C:\\Users\\osman\\anaconda3\\lib\\site-packages\\seaborn\\distributions.py:2557: FutureWarning: `distplot` is a deprecated function and will be removed in a future version. Please adapt your code to use either `displot` (a figure-level function with similar flexibility) or `histplot` (an axes-level function for histograms).\n",
      "  warnings.warn(msg, FutureWarning)\n"
     ]
    },
    {
     "data": {
      "text/plain": [
       "<AxesSubplot:xlabel='NO_OF_ENTRIES', ylabel='Density'>"
      ]
     },
     "execution_count": 69,
     "metadata": {},
     "output_type": "execute_result"
    },
    {
     "data": {
      "image/png": "[encoded data removed]",
      "text/plain": [
       "<Figure size 432x288 with 1 Axes>"
      ]
     },
     "metadata": {
      "needs_background": "light"
     },
     "output_type": "display_data"
    }
   ],
   "source": [
    "sns.distplot(mta_filtered['NO_OF_ENTRIES'],bins=8)"
   ]
  },
  {
   "cell_type": "code",
   "execution_count": 70,
   "id": "d7b6361b",
   "metadata": {},
   "outputs": [
    {
     "data": {
      "text/plain": [
       "(4835022, 10)"
      ]
     },
     "execution_count": 70,
     "metadata": {},
     "output_type": "execute_result"
    }
   ],
   "source": [
    "mta_filtered.shape"
   ]
  },
  {
   "cell_type": "code",
   "execution_count": 73,
   "id": "89211fc7",
   "metadata": {},
   "outputs": [
    {
     "data": {
      "text/plain": [
       "913930.5307901176"
      ]
     },
     "execution_count": 73,
     "metadata": {},
     "output_type": "execute_result"
    }
   ],
   "source": [
    "mta.NO_OF_EXITS.mean()"
   ]
  },
  {
   "cell_type": "code",
   "execution_count": 74,
   "id": "5ccb4ffb",
   "metadata": {
    "scrolled": true
   },
   "outputs": [
    {
     "data": {
      "text/html": [
       "<div>\n",
       "<style scoped>\n",
       "    .dataframe tbody tr th:only-of-type {\n",
       "        vertical-align: middle;\n",
       "    }\n",
       "\n",
       "    .dataframe tbody tr th {\n",
       "        vertical-align: top;\n",
       "    }\n",
       "\n",
       "    .dataframe thead th {\n",
       "        text-align: right;\n",
       "    }\n",
       "</style>\n",
       "<table border=\"1\" class=\"dataframe\">\n",
       "  <thead>\n",
       "    <tr style=\"text-align: right;\">\n",
       "      <th></th>\n",
       "      <th>STATION</th>\n",
       "      <th>TURNSTILE</th>\n",
       "      <th>DATE</th>\n",
       "      <th>TIME</th>\n",
       "      <th>DATE_TIME</th>\n",
       "      <th>WEEKDAY</th>\n",
       "      <th>ENTRIES</th>\n",
       "      <th>EXITS</th>\n",
       "      <th>NO_OF_ENTRIES</th>\n",
       "      <th>NO_OF_EXITS</th>\n",
       "      <th>ENTRIES_Z_SCORES</th>\n",
       "      <th>EXITS_Z_SCORES</th>\n",
       "    </tr>\n",
       "  </thead>\n",
       "  <tbody>\n",
       "    <tr>\n",
       "      <th>1</th>\n",
       "      <td>59 ST</td>\n",
       "      <td>A002 R051 02-00-00 59 ST</td>\n",
       "      <td>02/27/2021</td>\n",
       "      <td>07:00:00</td>\n",
       "      <td>2021-02-27 07:00:00</td>\n",
       "      <td>Saturday</td>\n",
       "      <td>7537260</td>\n",
       "      <td>2570445</td>\n",
       "      <td>5.0</td>\n",
       "      <td>11.0</td>\n",
       "      <td>-0.029255</td>\n",
       "      <td>-0.027746</td>\n",
       "    </tr>\n",
       "    <tr>\n",
       "      <th>2</th>\n",
       "      <td>59 ST</td>\n",
       "      <td>A002 R051 02-00-00 59 ST</td>\n",
       "      <td>02/27/2021</td>\n",
       "      <td>11:00:00</td>\n",
       "      <td>2021-02-27 11:00:00</td>\n",
       "      <td>Saturday</td>\n",
       "      <td>7537285</td>\n",
       "      <td>2570500</td>\n",
       "      <td>25.0</td>\n",
       "      <td>55.0</td>\n",
       "      <td>-0.029254</td>\n",
       "      <td>-0.027744</td>\n",
       "    </tr>\n",
       "    <tr>\n",
       "      <th>3</th>\n",
       "      <td>59 ST</td>\n",
       "      <td>A002 R051 02-00-00 59 ST</td>\n",
       "      <td>02/27/2021</td>\n",
       "      <td>15:00:00</td>\n",
       "      <td>2021-02-27 15:00:00</td>\n",
       "      <td>Saturday</td>\n",
       "      <td>7537354</td>\n",
       "      <td>2570546</td>\n",
       "      <td>69.0</td>\n",
       "      <td>46.0</td>\n",
       "      <td>-0.029253</td>\n",
       "      <td>-0.027745</td>\n",
       "    </tr>\n",
       "    <tr>\n",
       "      <th>4</th>\n",
       "      <td>59 ST</td>\n",
       "      <td>A002 R051 02-00-00 59 ST</td>\n",
       "      <td>02/27/2021</td>\n",
       "      <td>19:00:00</td>\n",
       "      <td>2021-02-27 19:00:00</td>\n",
       "      <td>Saturday</td>\n",
       "      <td>7537501</td>\n",
       "      <td>2570582</td>\n",
       "      <td>147.0</td>\n",
       "      <td>36.0</td>\n",
       "      <td>-0.029251</td>\n",
       "      <td>-0.027745</td>\n",
       "    </tr>\n",
       "    <tr>\n",
       "      <th>5</th>\n",
       "      <td>59 ST</td>\n",
       "      <td>A002 R051 02-00-00 59 ST</td>\n",
       "      <td>02/27/2021</td>\n",
       "      <td>23:00:00</td>\n",
       "      <td>2021-02-27 23:00:00</td>\n",
       "      <td>Saturday</td>\n",
       "      <td>7537589</td>\n",
       "      <td>2570596</td>\n",
       "      <td>88.0</td>\n",
       "      <td>14.0</td>\n",
       "      <td>-0.029252</td>\n",
       "      <td>-0.027745</td>\n",
       "    </tr>\n",
       "  </tbody>\n",
       "</table>\n",
       "</div>"
      ],
      "text/plain": [
       "  STATION                 TURNSTILE        DATE      TIME           DATE_TIME  \\\n",
       "1   59 ST  A002 R051 02-00-00 59 ST  02/27/2021  07:00:00 2021-02-27 07:00:00   \n",
       "2   59 ST  A002 R051 02-00-00 59 ST  02/27/2021  11:00:00 2021-02-27 11:00:00   \n",
       "3   59 ST  A002 R051 02-00-00 59 ST  02/27/2021  15:00:00 2021-02-27 15:00:00   \n",
       "4   59 ST  A002 R051 02-00-00 59 ST  02/27/2021  19:00:00 2021-02-27 19:00:00   \n",
       "5   59 ST  A002 R051 02-00-00 59 ST  02/27/2021  23:00:00 2021-02-27 23:00:00   \n",
       "\n",
       "    WEEKDAY  ENTRIES    EXITS  NO_OF_ENTRIES  NO_OF_EXITS  ENTRIES_Z_SCORES  \\\n",
       "1  Saturday  7537260  2570445            5.0         11.0         -0.029255   \n",
       "2  Saturday  7537285  2570500           25.0         55.0         -0.029254   \n",
       "3  Saturday  7537354  2570546           69.0         46.0         -0.029253   \n",
       "4  Saturday  7537501  2570582          147.0         36.0         -0.029251   \n",
       "5  Saturday  7537589  2570596           88.0         14.0         -0.029252   \n",
       "\n",
       "   EXITS_Z_SCORES  \n",
       "1       -0.027746  \n",
       "2       -0.027744  \n",
       "3       -0.027745  \n",
       "4       -0.027745  \n",
       "5       -0.027745  "
      ]
     },
     "execution_count": 74,
     "metadata": {},
     "output_type": "execute_result"
    }
   ],
   "source": [
    "from scipy.stats import zscore\n",
    "mta['ENTRIES_Z_SCORES'] = zscore(mta['NO_OF_ENTRIES'])\n",
    "mta['EXITS_Z_SCORES'] = zscore(mta['NO_OF_EXITS'])\n",
    "mta.head()"
   ]
  },
  {
   "cell_type": "code",
   "execution_count": 75,
   "id": "4d1013d0",
   "metadata": {},
   "outputs": [
    {
     "name": "stdout",
     "output_type": "stream",
     "text": [
      "-2.1252951735316353e-15\n"
     ]
    }
   ],
   "source": [
    "print(mta['ENTRIES_Z_SCORES'].mean())"
   ]
  },
  {
   "cell_type": "code",
   "execution_count": 33,
   "id": "8ddfc8f4",
   "metadata": {},
   "outputs": [
    {
     "data": {
      "text/html": [
       "<div>\n",
       "<style scoped>\n",
       "    .dataframe tbody tr th:only-of-type {\n",
       "        vertical-align: middle;\n",
       "    }\n",
       "\n",
       "    .dataframe tbody tr th {\n",
       "        vertical-align: top;\n",
       "    }\n",
       "\n",
       "    .dataframe thead th {\n",
       "        text-align: right;\n",
       "    }\n",
       "</style>\n",
       "<table border=\"1\" class=\"dataframe\">\n",
       "  <thead>\n",
       "    <tr style=\"text-align: right;\">\n",
       "      <th></th>\n",
       "      <th>STATION</th>\n",
       "      <th>TURNSTILE</th>\n",
       "      <th>DATE</th>\n",
       "      <th>TIME</th>\n",
       "      <th>DATE_TIME</th>\n",
       "      <th>WEEKDAY</th>\n",
       "      <th>ENTRIES</th>\n",
       "      <th>EXITS</th>\n",
       "      <th>NO_OF_ENTRIES</th>\n",
       "      <th>NO_OF_EXITS</th>\n",
       "    </tr>\n",
       "  </thead>\n",
       "  <tbody>\n",
       "    <tr>\n",
       "      <th>1</th>\n",
       "      <td>59 ST</td>\n",
       "      <td>A002 R051 02-00-00 59 ST</td>\n",
       "      <td>02/27/2021</td>\n",
       "      <td>07:00:00</td>\n",
       "      <td>2021-02-27 07:00:00</td>\n",
       "      <td>Saturday</td>\n",
       "      <td>7537260</td>\n",
       "      <td>2570445</td>\n",
       "      <td>5.0</td>\n",
       "      <td>11.0</td>\n",
       "    </tr>\n",
       "    <tr>\n",
       "      <th>2</th>\n",
       "      <td>59 ST</td>\n",
       "      <td>A002 R051 02-00-00 59 ST</td>\n",
       "      <td>02/27/2021</td>\n",
       "      <td>11:00:00</td>\n",
       "      <td>2021-02-27 11:00:00</td>\n",
       "      <td>Saturday</td>\n",
       "      <td>7537285</td>\n",
       "      <td>2570500</td>\n",
       "      <td>25.0</td>\n",
       "      <td>55.0</td>\n",
       "    </tr>\n",
       "    <tr>\n",
       "      <th>3</th>\n",
       "      <td>59 ST</td>\n",
       "      <td>A002 R051 02-00-00 59 ST</td>\n",
       "      <td>02/27/2021</td>\n",
       "      <td>15:00:00</td>\n",
       "      <td>2021-02-27 15:00:00</td>\n",
       "      <td>Saturday</td>\n",
       "      <td>7537354</td>\n",
       "      <td>2570546</td>\n",
       "      <td>69.0</td>\n",
       "      <td>46.0</td>\n",
       "    </tr>\n",
       "    <tr>\n",
       "      <th>4</th>\n",
       "      <td>59 ST</td>\n",
       "      <td>A002 R051 02-00-00 59 ST</td>\n",
       "      <td>02/27/2021</td>\n",
       "      <td>19:00:00</td>\n",
       "      <td>2021-02-27 19:00:00</td>\n",
       "      <td>Saturday</td>\n",
       "      <td>7537501</td>\n",
       "      <td>2570582</td>\n",
       "      <td>147.0</td>\n",
       "      <td>36.0</td>\n",
       "    </tr>\n",
       "    <tr>\n",
       "      <th>5</th>\n",
       "      <td>59 ST</td>\n",
       "      <td>A002 R051 02-00-00 59 ST</td>\n",
       "      <td>02/27/2021</td>\n",
       "      <td>23:00:00</td>\n",
       "      <td>2021-02-27 23:00:00</td>\n",
       "      <td>Saturday</td>\n",
       "      <td>7537589</td>\n",
       "      <td>2570596</td>\n",
       "      <td>88.0</td>\n",
       "      <td>14.0</td>\n",
       "    </tr>\n",
       "  </tbody>\n",
       "</table>\n",
       "</div>"
      ],
      "text/plain": [
       "  STATION                 TURNSTILE        DATE      TIME           DATE_TIME  \\\n",
       "1   59 ST  A002 R051 02-00-00 59 ST  02/27/2021  07:00:00 2021-02-27 07:00:00   \n",
       "2   59 ST  A002 R051 02-00-00 59 ST  02/27/2021  11:00:00 2021-02-27 11:00:00   \n",
       "3   59 ST  A002 R051 02-00-00 59 ST  02/27/2021  15:00:00 2021-02-27 15:00:00   \n",
       "4   59 ST  A002 R051 02-00-00 59 ST  02/27/2021  19:00:00 2021-02-27 19:00:00   \n",
       "5   59 ST  A002 R051 02-00-00 59 ST  02/27/2021  23:00:00 2021-02-27 23:00:00   \n",
       "\n",
       "    WEEKDAY  ENTRIES    EXITS  NO_OF_ENTRIES  NO_OF_EXITS  \n",
       "1  Saturday  7537260  2570445            5.0         11.0  \n",
       "2  Saturday  7537285  2570500           25.0         55.0  \n",
       "3  Saturday  7537354  2570546           69.0         46.0  \n",
       "4  Saturday  7537501  2570582          147.0         36.0  \n",
       "5  Saturday  7537589  2570596           88.0         14.0  "
      ]
     },
     "execution_count": 33,
     "metadata": {},
     "output_type": "execute_result"
    }
   ],
   "source": [
    "mta_filtered.head()"
   ]
  },
  {
   "cell_type": "code",
   "execution_count": null,
   "id": "99723842",
   "metadata": {},
   "outputs": [],
   "source": []
  },
  {
   "cell_type": "code",
   "execution_count": 117,
   "id": "d87ea042",
   "metadata": {},
   "outputs": [],
   "source": [
    "mta_filtered2 = mta[(mta.groupby('TURNSTILE')['NO_OF_ENTRIES'].apply(lambda x: (np.abs(x - x.mean())/ x.std()) < 1.96)) & (mta.groupby('TURNSTILE')['NO_OF_EXITS'].apply(lambda x: (np.abs(x - x.mean())/ x.std()) < 1.96))]"
   ]
  },
  {
   "cell_type": "code",
   "execution_count": 118,
   "id": "d8b3dba5",
   "metadata": {},
   "outputs": [
    {
     "data": {
      "text/html": [
       "<div>\n",
       "<style scoped>\n",
       "    .dataframe tbody tr th:only-of-type {\n",
       "        vertical-align: middle;\n",
       "    }\n",
       "\n",
       "    .dataframe tbody tr th {\n",
       "        vertical-align: top;\n",
       "    }\n",
       "\n",
       "    .dataframe thead th {\n",
       "        text-align: right;\n",
       "    }\n",
       "</style>\n",
       "<table border=\"1\" class=\"dataframe\">\n",
       "  <thead>\n",
       "    <tr style=\"text-align: right;\">\n",
       "      <th></th>\n",
       "      <th>STATION</th>\n",
       "      <th>TURNSTILE</th>\n",
       "      <th>DATE</th>\n",
       "      <th>TIME</th>\n",
       "      <th>DATE_TIME</th>\n",
       "      <th>WEEKDAY</th>\n",
       "      <th>ENTRIES</th>\n",
       "      <th>EXITS</th>\n",
       "      <th>NO_OF_ENTRIES</th>\n",
       "      <th>NO_OF_EXITS</th>\n",
       "      <th>ENTRIES_Z_SCORES</th>\n",
       "      <th>EXITS_Z_SCORES</th>\n",
       "    </tr>\n",
       "  </thead>\n",
       "  <tbody>\n",
       "    <tr>\n",
       "      <th>58207</th>\n",
       "      <td>14 ST</td>\n",
       "      <td>N078 R175 01-00-03 14 ST</td>\n",
       "      <td>02/27/2021</td>\n",
       "      <td>00:00:00</td>\n",
       "      <td>2021-02-27 00:00:00</td>\n",
       "      <td>Saturday</td>\n",
       "      <td>2128707762</td>\n",
       "      <td>1154879702</td>\n",
       "      <td>2.120015e+09</td>\n",
       "      <td>1.143952e+09</td>\n",
       "      <td>57.575678</td>\n",
       "      <td>34.701356</td>\n",
       "    </tr>\n",
       "    <tr>\n",
       "      <th>267537</th>\n",
       "      <td>14 ST</td>\n",
       "      <td>N078 R175 01-00-03 14 ST</td>\n",
       "      <td>03/06/2021</td>\n",
       "      <td>00:00:00</td>\n",
       "      <td>2021-03-06 00:00:00</td>\n",
       "      <td>Saturday</td>\n",
       "      <td>2128706209</td>\n",
       "      <td>1154876298</td>\n",
       "      <td>2.120012e+09</td>\n",
       "      <td>1.143946e+09</td>\n",
       "      <td>57.575604</td>\n",
       "      <td>34.701169</td>\n",
       "    </tr>\n",
       "    <tr>\n",
       "      <th>476071</th>\n",
       "      <td>14 ST</td>\n",
       "      <td>N078 R175 01-00-03 14 ST</td>\n",
       "      <td>03/13/2021</td>\n",
       "      <td>00:00:00</td>\n",
       "      <td>2021-03-13 00:00:00</td>\n",
       "      <td>Saturday</td>\n",
       "      <td>2128704592</td>\n",
       "      <td>1154872875</td>\n",
       "      <td>2.120009e+09</td>\n",
       "      <td>1.143939e+09</td>\n",
       "      <td>57.575527</td>\n",
       "      <td>34.700979</td>\n",
       "    </tr>\n",
       "    <tr>\n",
       "      <th>684034</th>\n",
       "      <td>14 ST</td>\n",
       "      <td>N078 R175 01-00-03 14 ST</td>\n",
       "      <td>03/20/2021</td>\n",
       "      <td>01:00:00</td>\n",
       "      <td>2021-03-20 01:00:00</td>\n",
       "      <td>Saturday</td>\n",
       "      <td>2128702967</td>\n",
       "      <td>1154869373</td>\n",
       "      <td>2.120006e+09</td>\n",
       "      <td>1.143933e+09</td>\n",
       "      <td>57.575444</td>\n",
       "      <td>34.700780</td>\n",
       "    </tr>\n",
       "    <tr>\n",
       "      <th>893347</th>\n",
       "      <td>14 ST</td>\n",
       "      <td>N078 R175 01-00-03 14 ST</td>\n",
       "      <td>03/27/2021</td>\n",
       "      <td>01:00:00</td>\n",
       "      <td>2021-03-27 01:00:00</td>\n",
       "      <td>Saturday</td>\n",
       "      <td>2128701168</td>\n",
       "      <td>1154865573</td>\n",
       "      <td>2.120003e+09</td>\n",
       "      <td>1.143926e+09</td>\n",
       "      <td>57.575362</td>\n",
       "      <td>34.700571</td>\n",
       "    </tr>\n",
       "  </tbody>\n",
       "</table>\n",
       "</div>"
      ],
      "text/plain": [
       "       STATION                 TURNSTILE        DATE      TIME  \\\n",
       "58207    14 ST  N078 R175 01-00-03 14 ST  02/27/2021  00:00:00   \n",
       "267537   14 ST  N078 R175 01-00-03 14 ST  03/06/2021  00:00:00   \n",
       "476071   14 ST  N078 R175 01-00-03 14 ST  03/13/2021  00:00:00   \n",
       "684034   14 ST  N078 R175 01-00-03 14 ST  03/20/2021  01:00:00   \n",
       "893347   14 ST  N078 R175 01-00-03 14 ST  03/27/2021  01:00:00   \n",
       "\n",
       "                 DATE_TIME   WEEKDAY     ENTRIES       EXITS  NO_OF_ENTRIES  \\\n",
       "58207  2021-02-27 00:00:00  Saturday  2128707762  1154879702   2.120015e+09   \n",
       "267537 2021-03-06 00:00:00  Saturday  2128706209  1154876298   2.120012e+09   \n",
       "476071 2021-03-13 00:00:00  Saturday  2128704592  1154872875   2.120009e+09   \n",
       "684034 2021-03-20 01:00:00  Saturday  2128702967  1154869373   2.120006e+09   \n",
       "893347 2021-03-27 01:00:00  Saturday  2128701168  1154865573   2.120003e+09   \n",
       "\n",
       "         NO_OF_EXITS  ENTRIES_Z_SCORES  EXITS_Z_SCORES  \n",
       "58207   1.143952e+09         57.575678       34.701356  \n",
       "267537  1.143946e+09         57.575604       34.701169  \n",
       "476071  1.143939e+09         57.575527       34.700979  \n",
       "684034  1.143933e+09         57.575444       34.700780  \n",
       "893347  1.143926e+09         57.575362       34.700571  "
      ]
     },
     "execution_count": 118,
     "metadata": {},
     "output_type": "execute_result"
    }
   ],
   "source": [
    "mta_filtered2.sort_values(by=['NO_OF_ENTRIES','NO_OF_EXITS'], ascending=False).head()"
   ]
  },
  {
   "cell_type": "code",
   "execution_count": 113,
   "id": "f9b28777",
   "metadata": {},
   "outputs": [
    {
     "data": {
      "text/plain": [
       "2120014556.0"
      ]
     },
     "execution_count": 113,
     "metadata": {},
     "output_type": "execute_result"
    }
   ],
   "source": [
    "mta_filtered2.NO_OF_ENTRIES.max()"
   ]
  },
  {
   "cell_type": "code",
   "execution_count": null,
   "id": "3d86814b",
   "metadata": {},
   "outputs": [],
   "source": []
  },
  {
   "cell_type": "code",
   "execution_count": null,
   "id": "9827d011",
   "metadata": {},
   "outputs": [],
   "source": []
  },
  {
   "cell_type": "code",
   "execution_count": null,
   "id": "c63358a3",
   "metadata": {},
   "outputs": [],
   "source": []
  },
  {
   "cell_type": "code",
   "execution_count": 30,
   "id": "1a9f7b9b",
   "metadata": {},
   "outputs": [
    {
     "ename": "NameError",
     "evalue": "name 'mta_entries_exits' is not defined",
     "output_type": "error",
     "traceback": [
      "\u001b[1;31m---------------------------------------------------------------------------\u001b[0m",
      "\u001b[1;31mNameError\u001b[0m                                 Traceback (most recent call last)",
      "\u001b[1;32m<ipython-input-30-0cdc115e3599>\u001b[0m in \u001b[0;36m<module>\u001b[1;34m\u001b[0m\n\u001b[1;32m----> 1\u001b[1;33m \u001b[0max\u001b[0m \u001b[1;33m=\u001b[0m \u001b[0msns\u001b[0m\u001b[1;33m.\u001b[0m\u001b[0mboxenplot\u001b[0m\u001b[1;33m(\u001b[0m\u001b[0mx\u001b[0m\u001b[1;33m=\u001b[0m\u001b[1;34m'TRAFFIC'\u001b[0m\u001b[1;33m,\u001b[0m \u001b[0mdata\u001b[0m\u001b[1;33m=\u001b[0m\u001b[0mmta_entries_exits\u001b[0m\u001b[1;33m,\u001b[0m\u001b[0mpalette\u001b[0m\u001b[1;33m=\u001b[0m\u001b[1;34m\"bright\"\u001b[0m\u001b[1;33m)\u001b[0m\u001b[1;33m.\u001b[0m\u001b[0mset\u001b[0m\u001b[1;33m(\u001b[0m\u001b[0mxlabel\u001b[0m\u001b[1;33m=\u001b[0m\u001b[1;34m'Daily Traffic'\u001b[0m\u001b[1;33m,\u001b[0m\u001b[0mtitle\u001b[0m\u001b[1;33m=\u001b[0m\u001b[1;34m\"Daily Traffic Based On Turnstile\"\u001b[0m\u001b[1;33m)\u001b[0m\u001b[1;33m\u001b[0m\u001b[1;33m\u001b[0m\u001b[0m\n\u001b[0m",
      "\u001b[1;31mNameError\u001b[0m: name 'mta_entries_exits' is not defined"
     ]
    }
   ],
   "source": [
    "ax = sns.boxenplot(x='TRAFFIC', data=mta_entries_exits,palette=\"bright\").set(xlabel='Daily Traffic',title=\"Daily Traffic Based On Turnstile\")"
   ]
  },
  {
   "cell_type": "code",
   "execution_count": null,
   "id": "5d6e9629",
   "metadata": {},
   "outputs": [],
   "source": [
    "mta_entries_exits.sort_values(by='TRAFFIC', ascending= True)"
   ]
  },
  {
   "cell_type": "code",
   "execution_count": null,
   "id": "f5992657",
   "metadata": {},
   "outputs": [],
   "source": [
    "mta.loc[mta['TURNSTILE'] == 'TRAM2 R469 00-05-01 RIT-ROOSEVELT']"
   ]
  },
  {
   "cell_type": "code",
   "execution_count": null,
   "id": "8aa02c13",
   "metadata": {},
   "outputs": [],
   "source": [
    "mta['NO_OF_ENTRIES'].min()"
   ]
  },
  {
   "cell_type": "code",
   "execution_count": null,
   "id": "bb7b0e7e",
   "metadata": {},
   "outputs": [],
   "source": [
    "mta.head()"
   ]
  },
  {
   "cell_type": "code",
   "execution_count": null,
   "id": "0b296f13",
   "metadata": {},
   "outputs": [],
   "source": [
    "'''mt2 = pd.DataFrame(mta.groupby('TURNSTILE')).sort_values(by='DATE_TIME', inplace=True)\n",
    "mta2['NO_OF_ENTRIES']= mta2['ENTRIES'].diff()\n",
    "mta2['NO_OF_EXITS']= mta2['EXITS'].diff()'''"
   ]
  },
  {
   "cell_type": "code",
   "execution_count": null,
   "id": "b4baca03",
   "metadata": {},
   "outputs": [],
   "source": [
    "mta.head()"
   ]
  },
  {
   "cell_type": "code",
   "execution_count": null,
   "id": "0b8390ca",
   "metadata": {},
   "outputs": [],
   "source": [
    "mta['NO_OF_ENTRIES'].min()"
   ]
  },
  {
   "cell_type": "code",
   "execution_count": null,
   "id": "ad637606",
   "metadata": {},
   "outputs": [],
   "source": [
    "mta['TURNSTILE_TRAFFIC'] = mta['NO_OF_ENTRIES'] + mta['NO_OF_EXITS']\n",
    "mta.describe()"
   ]
  },
  {
   "cell_type": "code",
   "execution_count": null,
   "id": "204401fd",
   "metadata": {},
   "outputs": [],
   "source": [
    "mta.sort_values(by='TURNSTILE_TRAFFIC').head()"
   ]
  },
  {
   "cell_type": "code",
   "execution_count": null,
   "id": "60bab819",
   "metadata": {},
   "outputs": [],
   "source": [
    "#Finding maximum and minimum date in dataframe\n",
    "\n",
    "print(\"Maximum date: \")\n",
    "print(mta[\"DATE_TIME\"].max(),'\\n')\n",
    "print(\"Minimum date: \")\n",
    "print(mta[\"DATE_TIME\"].min())"
   ]
  },
  {
   "cell_type": "code",
   "execution_count": null,
   "id": "53788e28",
   "metadata": {},
   "outputs": [],
   "source": [
    "mta.isnull().sum()"
   ]
  },
  {
   "cell_type": "code",
   "execution_count": null,
   "id": "399ef8ce",
   "metadata": {},
   "outputs": [],
   "source": [
    "mta = mta.dropna()\n",
    "mta.isnull().sum()"
   ]
  },
  {
   "cell_type": "code",
   "execution_count": null,
   "id": "a3a82415",
   "metadata": {},
   "outputs": [],
   "source": [
    "mta.groupby(['TURNSTILE','DATE']).sum().sort_values(ascending=False, by='TURNSTILE_TRAFFIC')"
   ]
  },
  {
   "cell_type": "code",
   "execution_count": null,
   "id": "7a05c6ca",
   "metadata": {},
   "outputs": [],
   "source": []
  }
 ],
 "metadata": {
  "kernelspec": {
   "display_name": "Python 3",
   "language": "python",
   "name": "python3"
  },
  "language_info": {
   "codemirror_mode": {
    "name": "ipython",
    "version": 3
   },
   "file_extension": ".py",
   "mimetype": "text/x-python",
   "name": "python",
   "nbconvert_exporter": "python",
   "pygments_lexer": "ipython3",
   "version": "3.8.8"
  }
 },
 "nbformat": 4,
 "nbformat_minor": 5
}
