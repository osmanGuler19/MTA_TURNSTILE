{
 "cells": [
  {
   "cell_type": "code",
   "execution_count": 1,
   "id": "1f273621",
   "metadata": {},
   "outputs": [],
   "source": [
    "import pandas as pd\n",
    "import glob\n",
    "import os\n",
    "from datetime import datetime\n",
    "import matplotlib.pyplot as plt\n",
    "import seaborn as sns\n",
    "import numpy as np"
   ]
  },
  {
   "cell_type": "code",
   "execution_count": 2,
   "id": "1a24f1c5",
   "metadata": {},
   "outputs": [],
   "source": [
    "def readDf():\n",
    "    if not os.path.exists('./concat.csv'):\n",
    "        path = 'C:/Projects/Bootcamp Ödev Cevapları/Untitled Folder/mart-eylül' # get path for all files that used by EDA\n",
    "        all_files = glob.glob(path + \"/*.txt\")\n",
    "        # create empty list and append all files\n",
    "        file_list = []\n",
    "\n",
    "        for filename in all_files:\n",
    "            df = pd.read_csv(filename)\n",
    "            file_list.append(df)\n",
    "\n",
    "        # Concatenate all data into one DataFrame that called \"mta\"\n",
    "        mta = pd.concat(file_list)\n",
    "        mta.columns = mta.columns.str.strip() #In case we have some unwanted spaces\n",
    "        mta.to_csv('concat.csv', index=None)\n",
    "        return mta\n",
    "    else:\n",
    "        return pd.read_csv('concat.csv')"
   ]
  },
  {
   "cell_type": "code",
   "execution_count": 3,
   "id": "88863099",
   "metadata": {},
   "outputs": [],
   "source": [
    "mta = readDf()"
   ]
  },
  {
   "cell_type": "code",
   "execution_count": 4,
   "id": "97129296",
   "metadata": {},
   "outputs": [],
   "source": [
    "mta['DATE_TIME'] = pd.to_datetime(mta[\"DATE\"]+ \" \" + mta[\"TIME\"], format='%m/%d/%Y %H:%M:%S')\n",
    "mta['TURNSTILE'] = mta['C/A'] + ' ' + mta['UNIT'] + ' ' + mta['SCP'] + ' ' + mta['STATION']\n",
    "mta.drop_duplicates(subset=['C/A', 'UNIT', 'SCP', 'STATION', 'DATE_TIME'], inplace=True)"
   ]
  },
  {
   "cell_type": "code",
   "execution_count": 5,
   "id": "26785ea1",
   "metadata": {},
   "outputs": [
    {
     "data": {
      "text/html": [
       "<div>\n",
       "<style scoped>\n",
       "    .dataframe tbody tr th:only-of-type {\n",
       "        vertical-align: middle;\n",
       "    }\n",
       "\n",
       "    .dataframe tbody tr th {\n",
       "        vertical-align: top;\n",
       "    }\n",
       "\n",
       "    .dataframe thead th {\n",
       "        text-align: right;\n",
       "    }\n",
       "</style>\n",
       "<table border=\"1\" class=\"dataframe\">\n",
       "  <thead>\n",
       "    <tr style=\"text-align: right;\">\n",
       "      <th></th>\n",
       "      <th>C/A</th>\n",
       "      <th>UNIT</th>\n",
       "      <th>SCP</th>\n",
       "      <th>STATION</th>\n",
       "      <th>LINENAME</th>\n",
       "      <th>DIVISION</th>\n",
       "      <th>DATE</th>\n",
       "      <th>TIME</th>\n",
       "      <th>DESC</th>\n",
       "      <th>ENTRIES</th>\n",
       "      <th>EXITS</th>\n",
       "      <th>DATE_TIME</th>\n",
       "      <th>TURNSTILE</th>\n",
       "    </tr>\n",
       "  </thead>\n",
       "  <tbody>\n",
       "    <tr>\n",
       "      <th>0</th>\n",
       "      <td>A002</td>\n",
       "      <td>R051</td>\n",
       "      <td>02-00-00</td>\n",
       "      <td>59 ST</td>\n",
       "      <td>NQR456W</td>\n",
       "      <td>BMT</td>\n",
       "      <td>02/27/2021</td>\n",
       "      <td>03:00:00</td>\n",
       "      <td>REGULAR</td>\n",
       "      <td>7537255</td>\n",
       "      <td>2570434</td>\n",
       "      <td>2021-02-27 03:00:00</td>\n",
       "      <td>A002 R051 02-00-00 59 ST</td>\n",
       "    </tr>\n",
       "    <tr>\n",
       "      <th>1</th>\n",
       "      <td>A002</td>\n",
       "      <td>R051</td>\n",
       "      <td>02-00-00</td>\n",
       "      <td>59 ST</td>\n",
       "      <td>NQR456W</td>\n",
       "      <td>BMT</td>\n",
       "      <td>02/27/2021</td>\n",
       "      <td>07:00:00</td>\n",
       "      <td>REGULAR</td>\n",
       "      <td>7537260</td>\n",
       "      <td>2570445</td>\n",
       "      <td>2021-02-27 07:00:00</td>\n",
       "      <td>A002 R051 02-00-00 59 ST</td>\n",
       "    </tr>\n",
       "    <tr>\n",
       "      <th>2</th>\n",
       "      <td>A002</td>\n",
       "      <td>R051</td>\n",
       "      <td>02-00-00</td>\n",
       "      <td>59 ST</td>\n",
       "      <td>NQR456W</td>\n",
       "      <td>BMT</td>\n",
       "      <td>02/27/2021</td>\n",
       "      <td>11:00:00</td>\n",
       "      <td>REGULAR</td>\n",
       "      <td>7537285</td>\n",
       "      <td>2570500</td>\n",
       "      <td>2021-02-27 11:00:00</td>\n",
       "      <td>A002 R051 02-00-00 59 ST</td>\n",
       "    </tr>\n",
       "    <tr>\n",
       "      <th>3</th>\n",
       "      <td>A002</td>\n",
       "      <td>R051</td>\n",
       "      <td>02-00-00</td>\n",
       "      <td>59 ST</td>\n",
       "      <td>NQR456W</td>\n",
       "      <td>BMT</td>\n",
       "      <td>02/27/2021</td>\n",
       "      <td>15:00:00</td>\n",
       "      <td>REGULAR</td>\n",
       "      <td>7537354</td>\n",
       "      <td>2570546</td>\n",
       "      <td>2021-02-27 15:00:00</td>\n",
       "      <td>A002 R051 02-00-00 59 ST</td>\n",
       "    </tr>\n",
       "    <tr>\n",
       "      <th>4</th>\n",
       "      <td>A002</td>\n",
       "      <td>R051</td>\n",
       "      <td>02-00-00</td>\n",
       "      <td>59 ST</td>\n",
       "      <td>NQR456W</td>\n",
       "      <td>BMT</td>\n",
       "      <td>02/27/2021</td>\n",
       "      <td>19:00:00</td>\n",
       "      <td>REGULAR</td>\n",
       "      <td>7537501</td>\n",
       "      <td>2570582</td>\n",
       "      <td>2021-02-27 19:00:00</td>\n",
       "      <td>A002 R051 02-00-00 59 ST</td>\n",
       "    </tr>\n",
       "  </tbody>\n",
       "</table>\n",
       "</div>"
      ],
      "text/plain": [
       "    C/A  UNIT       SCP STATION LINENAME DIVISION        DATE      TIME  \\\n",
       "0  A002  R051  02-00-00   59 ST  NQR456W      BMT  02/27/2021  03:00:00   \n",
       "1  A002  R051  02-00-00   59 ST  NQR456W      BMT  02/27/2021  07:00:00   \n",
       "2  A002  R051  02-00-00   59 ST  NQR456W      BMT  02/27/2021  11:00:00   \n",
       "3  A002  R051  02-00-00   59 ST  NQR456W      BMT  02/27/2021  15:00:00   \n",
       "4  A002  R051  02-00-00   59 ST  NQR456W      BMT  02/27/2021  19:00:00   \n",
       "\n",
       "      DESC  ENTRIES    EXITS           DATE_TIME                 TURNSTILE  \n",
       "0  REGULAR  7537255  2570434 2021-02-27 03:00:00  A002 R051 02-00-00 59 ST  \n",
       "1  REGULAR  7537260  2570445 2021-02-27 07:00:00  A002 R051 02-00-00 59 ST  \n",
       "2  REGULAR  7537285  2570500 2021-02-27 11:00:00  A002 R051 02-00-00 59 ST  \n",
       "3  REGULAR  7537354  2570546 2021-02-27 15:00:00  A002 R051 02-00-00 59 ST  \n",
       "4  REGULAR  7537501  2570582 2021-02-27 19:00:00  A002 R051 02-00-00 59 ST  "
      ]
     },
     "execution_count": 5,
     "metadata": {},
     "output_type": "execute_result"
    }
   ],
   "source": [
    "mta.head()"
   ]
  },
  {
   "cell_type": "code",
   "execution_count": 6,
   "id": "2491852f",
   "metadata": {},
   "outputs": [
    {
     "name": "stdout",
     "output_type": "stream",
     "text": [
      "<class 'pandas.core.frame.DataFrame'>\n",
      "Int64Index: 6279677 entries, 0 to 6279882\n",
      "Data columns (total 13 columns):\n",
      " #   Column     Dtype         \n",
      "---  ------     -----         \n",
      " 0   C/A        object        \n",
      " 1   UNIT       object        \n",
      " 2   SCP        object        \n",
      " 3   STATION    object        \n",
      " 4   LINENAME   object        \n",
      " 5   DIVISION   object        \n",
      " 6   DATE       object        \n",
      " 7   TIME       object        \n",
      " 8   DESC       object        \n",
      " 9   ENTRIES    int64         \n",
      " 10  EXITS      int64         \n",
      " 11  DATE_TIME  datetime64[ns]\n",
      " 12  TURNSTILE  object        \n",
      "dtypes: datetime64[ns](1), int64(2), object(10)\n",
      "memory usage: 670.7+ MB\n"
     ]
    }
   ],
   "source": [
    "mta.info()"
   ]
  },
  {
   "cell_type": "code",
   "execution_count": 7,
   "id": "b05b597c",
   "metadata": {},
   "outputs": [
    {
     "data": {
      "text/plain": [
       "(6279677, 13)"
      ]
     },
     "execution_count": 7,
     "metadata": {},
     "output_type": "execute_result"
    }
   ],
   "source": [
    "mta.shape"
   ]
  },
  {
   "cell_type": "code",
   "execution_count": 8,
   "id": "f6ae73fa",
   "metadata": {},
   "outputs": [
    {
     "data": {
      "text/plain": [
       "Index(['C/A', 'UNIT', 'SCP', 'STATION', 'LINENAME', 'DIVISION', 'DATE', 'TIME',\n",
       "       'DESC', 'ENTRIES', 'EXITS', 'DATE_TIME', 'TURNSTILE'],\n",
       "      dtype='object')"
      ]
     },
     "execution_count": 8,
     "metadata": {},
     "output_type": "execute_result"
    }
   ],
   "source": [
    "mta.columns"
   ]
  },
  {
   "cell_type": "code",
   "execution_count": 9,
   "id": "15af6d79",
   "metadata": {},
   "outputs": [
    {
     "data": {
      "text/plain": [
       "C/A          0\n",
       "UNIT         0\n",
       "SCP          0\n",
       "STATION      0\n",
       "LINENAME     0\n",
       "DIVISION     0\n",
       "DATE         0\n",
       "TIME         0\n",
       "DESC         0\n",
       "ENTRIES      0\n",
       "EXITS        0\n",
       "DATE_TIME    0\n",
       "TURNSTILE    0\n",
       "dtype: int64"
      ]
     },
     "execution_count": 9,
     "metadata": {},
     "output_type": "execute_result"
    }
   ],
   "source": [
    "#Checking null values based on columns\n",
    "\n",
    "mta.isnull().sum()"
   ]
  },
  {
   "cell_type": "code",
   "execution_count": 10,
   "id": "d553a1a9",
   "metadata": {},
   "outputs": [
    {
     "data": {
      "text/html": [
       "<div>\n",
       "<style scoped>\n",
       "    .dataframe tbody tr th:only-of-type {\n",
       "        vertical-align: middle;\n",
       "    }\n",
       "\n",
       "    .dataframe tbody tr th {\n",
       "        vertical-align: top;\n",
       "    }\n",
       "\n",
       "    .dataframe thead th {\n",
       "        text-align: right;\n",
       "    }\n",
       "</style>\n",
       "<table border=\"1\" class=\"dataframe\">\n",
       "  <thead>\n",
       "    <tr style=\"text-align: right;\">\n",
       "      <th></th>\n",
       "      <th>ENTRIES</th>\n",
       "      <th>EXITS</th>\n",
       "    </tr>\n",
       "  </thead>\n",
       "  <tbody>\n",
       "    <tr>\n",
       "      <th>count</th>\n",
       "      <td>6.279677e+06</td>\n",
       "      <td>6.279677e+06</td>\n",
       "    </tr>\n",
       "    <tr>\n",
       "      <th>mean</th>\n",
       "      <td>4.173093e+07</td>\n",
       "      <td>3.346020e+07</td>\n",
       "    </tr>\n",
       "    <tr>\n",
       "      <th>std</th>\n",
       "      <td>2.183711e+08</td>\n",
       "      <td>1.926419e+08</td>\n",
       "    </tr>\n",
       "    <tr>\n",
       "      <th>min</th>\n",
       "      <td>0.000000e+00</td>\n",
       "      <td>0.000000e+00</td>\n",
       "    </tr>\n",
       "    <tr>\n",
       "      <th>25%</th>\n",
       "      <td>2.188090e+05</td>\n",
       "      <td>9.744800e+04</td>\n",
       "    </tr>\n",
       "    <tr>\n",
       "      <th>50%</th>\n",
       "      <td>1.424042e+06</td>\n",
       "      <td>8.612790e+05</td>\n",
       "    </tr>\n",
       "    <tr>\n",
       "      <th>75%</th>\n",
       "      <td>6.052079e+06</td>\n",
       "      <td>3.990674e+06</td>\n",
       "    </tr>\n",
       "    <tr>\n",
       "      <th>max</th>\n",
       "      <td>2.147432e+09</td>\n",
       "      <td>2.133797e+09</td>\n",
       "    </tr>\n",
       "  </tbody>\n",
       "</table>\n",
       "</div>"
      ],
      "text/plain": [
       "            ENTRIES         EXITS\n",
       "count  6.279677e+06  6.279677e+06\n",
       "mean   4.173093e+07  3.346020e+07\n",
       "std    2.183711e+08  1.926419e+08\n",
       "min    0.000000e+00  0.000000e+00\n",
       "25%    2.188090e+05  9.744800e+04\n",
       "50%    1.424042e+06  8.612790e+05\n",
       "75%    6.052079e+06  3.990674e+06\n",
       "max    2.147432e+09  2.133797e+09"
      ]
     },
     "execution_count": 10,
     "metadata": {},
     "output_type": "execute_result"
    }
   ],
   "source": [
    "mta.describe()"
   ]
  },
  {
   "cell_type": "code",
   "execution_count": 11,
   "id": "9e93c1b4",
   "metadata": {},
   "outputs": [
    {
     "data": {
      "text/plain": [
       "REGULAR       6252548\n",
       "RECOVR AUD      27129\n",
       "Name: DESC, dtype: int64"
      ]
     },
     "execution_count": 11,
     "metadata": {},
     "output_type": "execute_result"
    }
   ],
   "source": [
    "mta['DESC'].value_counts()"
   ]
  },
  {
   "cell_type": "code",
   "execution_count": 12,
   "id": "7a4b2962",
   "metadata": {},
   "outputs": [],
   "source": [
    "##So we don't want the recovered audits. We want regular ones.\n",
    "#mta= pd.DataFrame(mta[mta.DESC=='REGULAR'])"
   ]
  },
  {
   "cell_type": "code",
   "execution_count": 13,
   "id": "59c03a93",
   "metadata": {},
   "outputs": [
    {
     "data": {
      "text/plain": [
       "REGULAR       6252548\n",
       "RECOVR AUD      27129\n",
       "Name: DESC, dtype: int64"
      ]
     },
     "execution_count": 13,
     "metadata": {},
     "output_type": "execute_result"
    }
   ],
   "source": [
    "mta['DESC'].value_counts()"
   ]
  },
  {
   "cell_type": "code",
   "execution_count": 14,
   "id": "ff9fb484",
   "metadata": {},
   "outputs": [],
   "source": [
    "mta['ENTRIES'] = mta['ENTRIES'].astype('int')\n",
    "mta['EXITS'] = mta['EXITS'].astype('int')"
   ]
  },
  {
   "cell_type": "code",
   "execution_count": 15,
   "id": "4ab91acd",
   "metadata": {},
   "outputs": [],
   "source": [
    "mta['WEEKDAY'] = mta[\"DATE_TIME\"].dt.day_name()"
   ]
  },
  {
   "cell_type": "code",
   "execution_count": 16,
   "id": "bd7aab57",
   "metadata": {
    "scrolled": true
   },
   "outputs": [
    {
     "data": {
      "text/html": [
       "<div>\n",
       "<style scoped>\n",
       "    .dataframe tbody tr th:only-of-type {\n",
       "        vertical-align: middle;\n",
       "    }\n",
       "\n",
       "    .dataframe tbody tr th {\n",
       "        vertical-align: top;\n",
       "    }\n",
       "\n",
       "    .dataframe thead th {\n",
       "        text-align: right;\n",
       "    }\n",
       "</style>\n",
       "<table border=\"1\" class=\"dataframe\">\n",
       "  <thead>\n",
       "    <tr style=\"text-align: right;\">\n",
       "      <th></th>\n",
       "      <th>STATION</th>\n",
       "      <th>TURNSTILE</th>\n",
       "      <th>DATE</th>\n",
       "      <th>TIME</th>\n",
       "      <th>DATE_TIME</th>\n",
       "      <th>WEEKDAY</th>\n",
       "      <th>ENTRIES</th>\n",
       "      <th>EXITS</th>\n",
       "    </tr>\n",
       "  </thead>\n",
       "  <tbody>\n",
       "    <tr>\n",
       "      <th>2140829</th>\n",
       "      <td>96 ST</td>\n",
       "      <td>N040 R251 00-00-02 96 ST</td>\n",
       "      <td>05/14/2021</td>\n",
       "      <td>16:00:00</td>\n",
       "      <td>2021-05-14 16:00:00</td>\n",
       "      <td>Friday</td>\n",
       "      <td>12131509</td>\n",
       "      <td>7680390</td>\n",
       "    </tr>\n",
       "    <tr>\n",
       "      <th>5763581</th>\n",
       "      <td>SUTPHIN-ARCHER</td>\n",
       "      <td>N605 R024 00-00-06 SUTPHIN-ARCHER</td>\n",
       "      <td>09/10/2021</td>\n",
       "      <td>20:00:00</td>\n",
       "      <td>2021-09-10 20:00:00</td>\n",
       "      <td>Friday</td>\n",
       "      <td>5672268</td>\n",
       "      <td>2773829</td>\n",
       "    </tr>\n",
       "    <tr>\n",
       "      <th>1502845</th>\n",
       "      <td>MARCY AV</td>\n",
       "      <td>J001 R460 01-06-01 MARCY AV</td>\n",
       "      <td>04/19/2021</td>\n",
       "      <td>09:00:00</td>\n",
       "      <td>2021-04-19 09:00:00</td>\n",
       "      <td>Monday</td>\n",
       "      <td>713546</td>\n",
       "      <td>479340</td>\n",
       "    </tr>\n",
       "    <tr>\n",
       "      <th>5038161</th>\n",
       "      <td>AVENUE H</td>\n",
       "      <td>B020 R263 00-05-02 AVENUE H</td>\n",
       "      <td>08/19/2021</td>\n",
       "      <td>20:00:00</td>\n",
       "      <td>2021-08-19 20:00:00</td>\n",
       "      <td>Thursday</td>\n",
       "      <td>583115</td>\n",
       "      <td>779815</td>\n",
       "    </tr>\n",
       "    <tr>\n",
       "      <th>2253752</th>\n",
       "      <td>GRD CNTRL-42 ST</td>\n",
       "      <td>R241A R048 00-00-00 GRD CNTRL-42 ST</td>\n",
       "      <td>05/11/2021</td>\n",
       "      <td>13:00:00</td>\n",
       "      <td>2021-05-11 13:00:00</td>\n",
       "      <td>Tuesday</td>\n",
       "      <td>1639042</td>\n",
       "      <td>2115729</td>\n",
       "    </tr>\n",
       "  </tbody>\n",
       "</table>\n",
       "</div>"
      ],
      "text/plain": [
       "                 STATION                            TURNSTILE        DATE  \\\n",
       "2140829            96 ST             N040 R251 00-00-02 96 ST  05/14/2021   \n",
       "5763581   SUTPHIN-ARCHER    N605 R024 00-00-06 SUTPHIN-ARCHER  09/10/2021   \n",
       "1502845         MARCY AV          J001 R460 01-06-01 MARCY AV  04/19/2021   \n",
       "5038161         AVENUE H          B020 R263 00-05-02 AVENUE H  08/19/2021   \n",
       "2253752  GRD CNTRL-42 ST  R241A R048 00-00-00 GRD CNTRL-42 ST  05/11/2021   \n",
       "\n",
       "             TIME           DATE_TIME   WEEKDAY   ENTRIES    EXITS  \n",
       "2140829  16:00:00 2021-05-14 16:00:00    Friday  12131509  7680390  \n",
       "5763581  20:00:00 2021-09-10 20:00:00    Friday   5672268  2773829  \n",
       "1502845  09:00:00 2021-04-19 09:00:00    Monday    713546   479340  \n",
       "5038161  20:00:00 2021-08-19 20:00:00  Thursday    583115   779815  \n",
       "2253752  13:00:00 2021-05-11 13:00:00   Tuesday   1639042  2115729  "
      ]
     },
     "execution_count": 16,
     "metadata": {},
     "output_type": "execute_result"
    }
   ],
   "source": [
    "mta = mta[[\"STATION\",\"TURNSTILE\",\"DATE\",\"TIME\",\"DATE_TIME\",\"WEEKDAY\",\"ENTRIES\",\"EXITS\"]]\n",
    "mta.sample(5)"
   ]
  },
  {
   "cell_type": "code",
   "execution_count": 17,
   "id": "b367d623",
   "metadata": {},
   "outputs": [
    {
     "data": {
      "text/html": [
       "<div>\n",
       "<style scoped>\n",
       "    .dataframe tbody tr th:only-of-type {\n",
       "        vertical-align: middle;\n",
       "    }\n",
       "\n",
       "    .dataframe tbody tr th {\n",
       "        vertical-align: top;\n",
       "    }\n",
       "\n",
       "    .dataframe thead th {\n",
       "        text-align: right;\n",
       "    }\n",
       "</style>\n",
       "<table border=\"1\" class=\"dataframe\">\n",
       "  <thead>\n",
       "    <tr style=\"text-align: right;\">\n",
       "      <th></th>\n",
       "      <th>STATION</th>\n",
       "      <th>TURNSTILE</th>\n",
       "      <th>DATE</th>\n",
       "      <th>TIME</th>\n",
       "      <th>DATE_TIME</th>\n",
       "      <th>WEEKDAY</th>\n",
       "      <th>ENTRIES</th>\n",
       "      <th>EXITS</th>\n",
       "    </tr>\n",
       "  </thead>\n",
       "  <tbody>\n",
       "    <tr>\n",
       "      <th>0</th>\n",
       "      <td>59 ST</td>\n",
       "      <td>A002 R051 02-00-00 59 ST</td>\n",
       "      <td>02/27/2021</td>\n",
       "      <td>03:00:00</td>\n",
       "      <td>2021-02-27 03:00:00</td>\n",
       "      <td>Saturday</td>\n",
       "      <td>7537255</td>\n",
       "      <td>2570434</td>\n",
       "    </tr>\n",
       "    <tr>\n",
       "      <th>1</th>\n",
       "      <td>59 ST</td>\n",
       "      <td>A002 R051 02-00-00 59 ST</td>\n",
       "      <td>02/27/2021</td>\n",
       "      <td>07:00:00</td>\n",
       "      <td>2021-02-27 07:00:00</td>\n",
       "      <td>Saturday</td>\n",
       "      <td>7537260</td>\n",
       "      <td>2570445</td>\n",
       "    </tr>\n",
       "    <tr>\n",
       "      <th>2</th>\n",
       "      <td>59 ST</td>\n",
       "      <td>A002 R051 02-00-00 59 ST</td>\n",
       "      <td>02/27/2021</td>\n",
       "      <td>11:00:00</td>\n",
       "      <td>2021-02-27 11:00:00</td>\n",
       "      <td>Saturday</td>\n",
       "      <td>7537285</td>\n",
       "      <td>2570500</td>\n",
       "    </tr>\n",
       "    <tr>\n",
       "      <th>3</th>\n",
       "      <td>59 ST</td>\n",
       "      <td>A002 R051 02-00-00 59 ST</td>\n",
       "      <td>02/27/2021</td>\n",
       "      <td>15:00:00</td>\n",
       "      <td>2021-02-27 15:00:00</td>\n",
       "      <td>Saturday</td>\n",
       "      <td>7537354</td>\n",
       "      <td>2570546</td>\n",
       "    </tr>\n",
       "    <tr>\n",
       "      <th>4</th>\n",
       "      <td>59 ST</td>\n",
       "      <td>A002 R051 02-00-00 59 ST</td>\n",
       "      <td>02/27/2021</td>\n",
       "      <td>19:00:00</td>\n",
       "      <td>2021-02-27 19:00:00</td>\n",
       "      <td>Saturday</td>\n",
       "      <td>7537501</td>\n",
       "      <td>2570582</td>\n",
       "    </tr>\n",
       "  </tbody>\n",
       "</table>\n",
       "</div>"
      ],
      "text/plain": [
       "  STATION                 TURNSTILE        DATE      TIME           DATE_TIME  \\\n",
       "0   59 ST  A002 R051 02-00-00 59 ST  02/27/2021  03:00:00 2021-02-27 03:00:00   \n",
       "1   59 ST  A002 R051 02-00-00 59 ST  02/27/2021  07:00:00 2021-02-27 07:00:00   \n",
       "2   59 ST  A002 R051 02-00-00 59 ST  02/27/2021  11:00:00 2021-02-27 11:00:00   \n",
       "3   59 ST  A002 R051 02-00-00 59 ST  02/27/2021  15:00:00 2021-02-27 15:00:00   \n",
       "4   59 ST  A002 R051 02-00-00 59 ST  02/27/2021  19:00:00 2021-02-27 19:00:00   \n",
       "\n",
       "    WEEKDAY  ENTRIES    EXITS  \n",
       "0  Saturday  7537255  2570434  \n",
       "1  Saturday  7537260  2570445  \n",
       "2  Saturday  7537285  2570500  \n",
       "3  Saturday  7537354  2570546  \n",
       "4  Saturday  7537501  2570582  "
      ]
     },
     "execution_count": 17,
     "metadata": {},
     "output_type": "execute_result"
    }
   ],
   "source": [
    "mta.head()"
   ]
  },
  {
   "cell_type": "code",
   "execution_count": 18,
   "id": "2e50b57e",
   "metadata": {},
   "outputs": [],
   "source": [
    "mta.sort_values(by='DATE_TIME')\n",
    "mta['NO_OF_ENTRIES']= mta['ENTRIES'].diff()\n",
    "mta['NO_OF_EXITS']= mta['EXITS'].diff()\n"
   ]
  },
  {
   "cell_type": "code",
   "execution_count": 19,
   "id": "f534a482",
   "metadata": {},
   "outputs": [
    {
     "data": {
      "text/html": [
       "<div>\n",
       "<style scoped>\n",
       "    .dataframe tbody tr th:only-of-type {\n",
       "        vertical-align: middle;\n",
       "    }\n",
       "\n",
       "    .dataframe tbody tr th {\n",
       "        vertical-align: top;\n",
       "    }\n",
       "\n",
       "    .dataframe thead th {\n",
       "        text-align: right;\n",
       "    }\n",
       "</style>\n",
       "<table border=\"1\" class=\"dataframe\">\n",
       "  <thead>\n",
       "    <tr style=\"text-align: right;\">\n",
       "      <th></th>\n",
       "      <th>ENTRIES</th>\n",
       "      <th>EXITS</th>\n",
       "      <th>NO_OF_ENTRIES</th>\n",
       "      <th>NO_OF_EXITS</th>\n",
       "    </tr>\n",
       "  </thead>\n",
       "  <tbody>\n",
       "    <tr>\n",
       "      <th>count</th>\n",
       "      <td>6.279677e+06</td>\n",
       "      <td>6.279677e+06</td>\n",
       "      <td>6.279676e+06</td>\n",
       "      <td>6.279676e+06</td>\n",
       "    </tr>\n",
       "    <tr>\n",
       "      <th>mean</th>\n",
       "      <td>4.173093e+07</td>\n",
       "      <td>3.346020e+07</td>\n",
       "      <td>-1.199377e+00</td>\n",
       "      <td>-4.092230e-01</td>\n",
       "    </tr>\n",
       "    <tr>\n",
       "      <th>std</th>\n",
       "      <td>2.183711e+08</td>\n",
       "      <td>1.926419e+08</td>\n",
       "      <td>4.652105e+07</td>\n",
       "      <td>4.129563e+07</td>\n",
       "    </tr>\n",
       "    <tr>\n",
       "      <th>min</th>\n",
       "      <td>0.000000e+00</td>\n",
       "      <td>0.000000e+00</td>\n",
       "      <td>-2.144357e+09</td>\n",
       "      <td>-2.133741e+09</td>\n",
       "    </tr>\n",
       "    <tr>\n",
       "      <th>25%</th>\n",
       "      <td>2.188090e+05</td>\n",
       "      <td>9.744800e+04</td>\n",
       "      <td>2.000000e+00</td>\n",
       "      <td>4.000000e+00</td>\n",
       "    </tr>\n",
       "    <tr>\n",
       "      <th>50%</th>\n",
       "      <td>1.424042e+06</td>\n",
       "      <td>8.612790e+05</td>\n",
       "      <td>2.400000e+01</td>\n",
       "      <td>2.600000e+01</td>\n",
       "    </tr>\n",
       "    <tr>\n",
       "      <th>75%</th>\n",
       "      <td>6.052079e+06</td>\n",
       "      <td>3.990674e+06</td>\n",
       "      <td>8.100000e+01</td>\n",
       "      <td>8.400000e+01</td>\n",
       "    </tr>\n",
       "    <tr>\n",
       "      <th>max</th>\n",
       "      <td>2.147432e+09</td>\n",
       "      <td>2.133797e+09</td>\n",
       "      <td>2.147040e+09</td>\n",
       "      <td>2.133741e+09</td>\n",
       "    </tr>\n",
       "  </tbody>\n",
       "</table>\n",
       "</div>"
      ],
      "text/plain": [
       "            ENTRIES         EXITS  NO_OF_ENTRIES   NO_OF_EXITS\n",
       "count  6.279677e+06  6.279677e+06   6.279676e+06  6.279676e+06\n",
       "mean   4.173093e+07  3.346020e+07  -1.199377e+00 -4.092230e-01\n",
       "std    2.183711e+08  1.926419e+08   4.652105e+07  4.129563e+07\n",
       "min    0.000000e+00  0.000000e+00  -2.144357e+09 -2.133741e+09\n",
       "25%    2.188090e+05  9.744800e+04   2.000000e+00  4.000000e+00\n",
       "50%    1.424042e+06  8.612790e+05   2.400000e+01  2.600000e+01\n",
       "75%    6.052079e+06  3.990674e+06   8.100000e+01  8.400000e+01\n",
       "max    2.147432e+09  2.133797e+09   2.147040e+09  2.133741e+09"
      ]
     },
     "execution_count": 19,
     "metadata": {},
     "output_type": "execute_result"
    }
   ],
   "source": [
    "mta.describe()"
   ]
  },
  {
   "cell_type": "code",
   "execution_count": 20,
   "id": "de601bc1",
   "metadata": {},
   "outputs": [
    {
     "data": {
      "text/plain": [
       "<matplotlib.collections.PathCollection at 0x2c918cfb400>"
      ]
     },
     "execution_count": 20,
     "metadata": {},
     "output_type": "execute_result"
    },
    {
     "data": {
      "image/png": "[encoded data removed]",
      "text/plain": [
       "<Figure size 432x288 with 1 Axes>"
      ]
     },
     "metadata": {
      "needs_background": "light"
     },
     "output_type": "display_data"
    }
   ],
   "source": [
    "plt.scatter(mta['NO_OF_ENTRIES'],mta['NO_OF_EXITS'])"
   ]
  },
  {
   "cell_type": "code",
   "execution_count": 21,
   "id": "448b95a4",
   "metadata": {},
   "outputs": [],
   "source": [
    "mask_negatives = (mta.NO_OF_ENTRIES >0) & (mta.NO_OF_EXITS >0)"
   ]
  },
  {
   "cell_type": "code",
   "execution_count": 22,
   "id": "a51d339e",
   "metadata": {},
   "outputs": [],
   "source": [
    "mta = mta[mask_negatives]"
   ]
  },
  {
   "cell_type": "code",
   "execution_count": 23,
   "id": "9907b710",
   "metadata": {},
   "outputs": [
    {
     "data": {
      "text/plain": [
       "(4891943, 10)"
      ]
     },
     "execution_count": 23,
     "metadata": {},
     "output_type": "execute_result"
    }
   ],
   "source": [
    "mta.shape"
   ]
  },
  {
   "cell_type": "code",
   "execution_count": 24,
   "id": "984dc932",
   "metadata": {},
   "outputs": [
    {
     "name": "stdout",
     "output_type": "stream",
     "text": [
      "no of exits : 0      no of entries : 0\n"
     ]
    }
   ],
   "source": [
    "count = (mta.NO_OF_EXITS < 0).sum()\n",
    "count2 = (mta.NO_OF_ENTRIES < 0).sum()\n",
    "print(\"no of exits :\",count,\"   \",\" no of entries :\", count2)"
   ]
  },
  {
   "cell_type": "code",
   "execution_count": 25,
   "id": "13a5524f",
   "metadata": {},
   "outputs": [
    {
     "data": {
      "text/plain": [
       "<matplotlib.collections.PathCollection at 0x2c9199633d0>"
      ]
     },
     "execution_count": 25,
     "metadata": {},
     "output_type": "execute_result"
    },
    {
     "data": {
      "image/png": "[encoded data removed]",
      "text/plain": [
       "<Figure size 432x288 with 1 Axes>"
      ]
     },
     "metadata": {
      "needs_background": "light"
     },
     "output_type": "display_data"
    }
   ],
   "source": [
    "plt.scatter(mta['NO_OF_ENTRIES'],mta['NO_OF_EXITS'])"
   ]
  },
  {
   "cell_type": "code",
   "execution_count": 26,
   "id": "c94a3031",
   "metadata": {},
   "outputs": [],
   "source": [
    "mta['NO_OF_ENTRIES'][mta['NO_OF_ENTRIES'] > (mta['NO_OF_ENTRIES'].quantile(0.98))] = mta['NO_OF_ENTRIES'].median()\n",
    "mta['NO_OF_EXITS'][mta['NO_OF_EXITS'] > (mta['NO_OF_EXITS'].quantile(0.98))] = mta['NO_OF_EXITS'].median()                                             "
   ]
  },
  {
   "cell_type": "code",
   "execution_count": 27,
   "id": "6d4d4da1",
   "metadata": {},
   "outputs": [],
   "source": [
    "mta['TRAFFIC'] = mta['NO_OF_ENTRIES'] + mta['NO_OF_EXITS']"
   ]
  },
  {
   "cell_type": "code",
   "execution_count": 28,
   "id": "21206863",
   "metadata": {},
   "outputs": [
    {
     "data": {
      "text/plain": [
       "<matplotlib.collections.PathCollection at 0x2c919a57490>"
      ]
     },
     "execution_count": 28,
     "metadata": {},
     "output_type": "execute_result"
    },
    {
     "data": {
      "image/png": "[encoded data removed]",
      "text/plain": [
       "<Figure size 432x288 with 1 Axes>"
      ]
     },
     "metadata": {
      "needs_background": "light"
     },
     "output_type": "display_data"
    }
   ],
   "source": [
    "plt.scatter(mta['NO_OF_ENTRIES'],mta['NO_OF_EXITS'])"
   ]
  },
  {
   "cell_type": "code",
   "execution_count": 29,
   "id": "fe4b4286",
   "metadata": {},
   "outputs": [
    {
     "data": {
      "text/plain": [
       "67.86324472709515"
      ]
     },
     "execution_count": 29,
     "metadata": {},
     "output_type": "execute_result"
    }
   ],
   "source": [
    "mta['NO_OF_ENTRIES'].mean()"
   ]
  },
  {
   "cell_type": "code",
   "execution_count": 30,
   "id": "7ba816c6",
   "metadata": {
    "scrolled": true
   },
   "outputs": [
    {
     "data": {
      "text/plain": [
       "74.03894280861408"
      ]
     },
     "execution_count": 30,
     "metadata": {},
     "output_type": "execute_result"
    }
   ],
   "source": [
    "mta['NO_OF_EXITS'].mean()"
   ]
  },
  {
   "cell_type": "code",
   "execution_count": 31,
   "id": "a15715f2",
   "metadata": {},
   "outputs": [
    {
     "data": {
      "text/plain": [
       "555.0"
      ]
     },
     "execution_count": 31,
     "metadata": {},
     "output_type": "execute_result"
    }
   ],
   "source": [
    "mta.NO_OF_EXITS.max()"
   ]
  },
  {
   "cell_type": "code",
   "execution_count": 32,
   "id": "414a5a46",
   "metadata": {},
   "outputs": [
    {
     "data": {
      "text/plain": [
       "42.0"
      ]
     },
     "execution_count": 32,
     "metadata": {},
     "output_type": "execute_result"
    }
   ],
   "source": [
    "mta.NO_OF_ENTRIES.median()"
   ]
  },
  {
   "cell_type": "code",
   "execution_count": 33,
   "id": "0ced94d9",
   "metadata": {},
   "outputs": [
    {
     "data": {
      "text/plain": [
       "42.0"
      ]
     },
     "execution_count": 33,
     "metadata": {},
     "output_type": "execute_result"
    }
   ],
   "source": [
    "mta.NO_OF_EXITS.median()"
   ]
  },
  {
   "cell_type": "code",
   "execution_count": 34,
   "id": "8870a07a",
   "metadata": {},
   "outputs": [
    {
     "name": "stderr",
     "output_type": "stream",
     "text": [
      "C:\\Users\\osman\\anaconda3\\lib\\site-packages\\seaborn\\distributions.py:2557: FutureWarning: `distplot` is a deprecated function and will be removed in a future version. Please adapt your code to use either `displot` (a figure-level function with similar flexibility) or `histplot` (an axes-level function for histograms).\n",
      "  warnings.warn(msg, FutureWarning)\n"
     ]
    },
    {
     "data": {
      "text/plain": [
       "<AxesSubplot:xlabel='NO_OF_ENTRIES', ylabel='Density'>"
      ]
     },
     "execution_count": 34,
     "metadata": {},
     "output_type": "execute_result"
    },
    {
     "data": {
      "image/png": "[encoded data removed]",
      "text/plain": [
       "<Figure size 432x288 with 1 Axes>"
      ]
     },
     "metadata": {
      "needs_background": "light"
     },
     "output_type": "display_data"
    }
   ],
   "source": [
    "sns.distplot(mta['NO_OF_ENTRIES'],bins=8)"
   ]
  },
  {
   "cell_type": "code",
   "execution_count": 35,
   "id": "d8b3dba5",
   "metadata": {},
   "outputs": [
    {
     "data": {
      "text/html": [
       "<div>\n",
       "<style scoped>\n",
       "    .dataframe tbody tr th:only-of-type {\n",
       "        vertical-align: middle;\n",
       "    }\n",
       "\n",
       "    .dataframe tbody tr th {\n",
       "        vertical-align: top;\n",
       "    }\n",
       "\n",
       "    .dataframe thead th {\n",
       "        text-align: right;\n",
       "    }\n",
       "</style>\n",
       "<table border=\"1\" class=\"dataframe\">\n",
       "  <thead>\n",
       "    <tr style=\"text-align: right;\">\n",
       "      <th></th>\n",
       "      <th>STATION</th>\n",
       "      <th>TURNSTILE</th>\n",
       "      <th>DATE</th>\n",
       "      <th>TIME</th>\n",
       "      <th>DATE_TIME</th>\n",
       "      <th>WEEKDAY</th>\n",
       "      <th>ENTRIES</th>\n",
       "      <th>EXITS</th>\n",
       "      <th>NO_OF_ENTRIES</th>\n",
       "      <th>NO_OF_EXITS</th>\n",
       "      <th>TRAFFIC</th>\n",
       "    </tr>\n",
       "  </thead>\n",
       "  <tbody>\n",
       "    <tr>\n",
       "      <th>5335701</th>\n",
       "      <td>GRAND ST</td>\n",
       "      <td>N520 R240 00-00-00 GRAND ST</td>\n",
       "      <td>08/23/2021</td>\n",
       "      <td>16:00:00</td>\n",
       "      <td>2021-08-23 16:00:00</td>\n",
       "      <td>Monday</td>\n",
       "      <td>20879514</td>\n",
       "      <td>22926154</td>\n",
       "      <td>433.0</td>\n",
       "      <td>543.0</td>\n",
       "      <td>976.0</td>\n",
       "    </tr>\n",
       "    <tr>\n",
       "      <th>5495003</th>\n",
       "      <td>42 ST-PORT AUTH</td>\n",
       "      <td>N063A R011 00-00-01 42 ST-PORT AUTH</td>\n",
       "      <td>08/31/2021</td>\n",
       "      <td>12:00:00</td>\n",
       "      <td>2021-08-31 12:00:00</td>\n",
       "      <td>Tuesday</td>\n",
       "      <td>1281417540</td>\n",
       "      <td>179392342</td>\n",
       "      <td>433.0</td>\n",
       "      <td>541.0</td>\n",
       "      <td>974.0</td>\n",
       "    </tr>\n",
       "    <tr>\n",
       "      <th>5541073</th>\n",
       "      <td>34 ST-HERALD SQ</td>\n",
       "      <td>N506 R022 00-05-04 34 ST-HERALD SQ</td>\n",
       "      <td>08/29/2021</td>\n",
       "      <td>16:00:00</td>\n",
       "      <td>2021-08-29 16:00:00</td>\n",
       "      <td>Sunday</td>\n",
       "      <td>140937</td>\n",
       "      <td>152517</td>\n",
       "      <td>433.0</td>\n",
       "      <td>535.0</td>\n",
       "      <td>968.0</td>\n",
       "    </tr>\n",
       "    <tr>\n",
       "      <th>5463253</th>\n",
       "      <td>36 ST</td>\n",
       "      <td>C018 R197 00-00-00 36 ST</td>\n",
       "      <td>09/02/2021</td>\n",
       "      <td>21:00:00</td>\n",
       "      <td>2021-09-02 21:00:00</td>\n",
       "      <td>Thursday</td>\n",
       "      <td>402089</td>\n",
       "      <td>609221</td>\n",
       "      <td>433.0</td>\n",
       "      <td>520.0</td>\n",
       "      <td>953.0</td>\n",
       "    </tr>\n",
       "    <tr>\n",
       "      <th>2531536</th>\n",
       "      <td>36 ST</td>\n",
       "      <td>C018 R197 00-00-00 36 ST</td>\n",
       "      <td>05/24/2021</td>\n",
       "      <td>17:00:00</td>\n",
       "      <td>2021-05-24 17:00:00</td>\n",
       "      <td>Monday</td>\n",
       "      <td>253970</td>\n",
       "      <td>379008</td>\n",
       "      <td>433.0</td>\n",
       "      <td>519.0</td>\n",
       "      <td>952.0</td>\n",
       "    </tr>\n",
       "  </tbody>\n",
       "</table>\n",
       "</div>"
      ],
      "text/plain": [
       "                 STATION                            TURNSTILE        DATE  \\\n",
       "5335701         GRAND ST          N520 R240 00-00-00 GRAND ST  08/23/2021   \n",
       "5495003  42 ST-PORT AUTH  N063A R011 00-00-01 42 ST-PORT AUTH  08/31/2021   \n",
       "5541073  34 ST-HERALD SQ   N506 R022 00-05-04 34 ST-HERALD SQ  08/29/2021   \n",
       "5463253            36 ST             C018 R197 00-00-00 36 ST  09/02/2021   \n",
       "2531536            36 ST             C018 R197 00-00-00 36 ST  05/24/2021   \n",
       "\n",
       "             TIME           DATE_TIME   WEEKDAY     ENTRIES      EXITS  \\\n",
       "5335701  16:00:00 2021-08-23 16:00:00    Monday    20879514   22926154   \n",
       "5495003  12:00:00 2021-08-31 12:00:00   Tuesday  1281417540  179392342   \n",
       "5541073  16:00:00 2021-08-29 16:00:00    Sunday      140937     152517   \n",
       "5463253  21:00:00 2021-09-02 21:00:00  Thursday      402089     609221   \n",
       "2531536  17:00:00 2021-05-24 17:00:00    Monday      253970     379008   \n",
       "\n",
       "         NO_OF_ENTRIES  NO_OF_EXITS  TRAFFIC  \n",
       "5335701          433.0        543.0    976.0  \n",
       "5495003          433.0        541.0    974.0  \n",
       "5541073          433.0        535.0    968.0  \n",
       "5463253          433.0        520.0    953.0  \n",
       "2531536          433.0        519.0    952.0  "
      ]
     },
     "execution_count": 35,
     "metadata": {},
     "output_type": "execute_result"
    }
   ],
   "source": [
    "mta.sort_values(by=['NO_OF_ENTRIES','NO_OF_EXITS'], ascending=False).head()"
   ]
  },
  {
   "cell_type": "code",
   "execution_count": 82,
   "id": "da77c982",
   "metadata": {},
   "outputs": [],
   "source": [
    "def divideDateTime(x):\n",
    "    time = datetime.strptime(x.strftime(\"%y-%m-%d %H:%M:%S\"), \"%y-%m-%d %H:%M:%S\")\n",
    "    if(time.hour>18):\n",
    "        return 'EVENING'\n",
    "    elif(time.hour > 12):\n",
    "        return 'AFTERNOON'\n",
    "    elif(time.hour>6):\n",
    "        return 'MORNING'\n",
    "    else:\n",
    "        return 'NIGHT'\n",
    "        "
   ]
  },
  {
   "cell_type": "code",
   "execution_count": 83,
   "id": "3dc7dbe6",
   "metadata": {},
   "outputs": [],
   "source": [
    "mta['DAY_PART'] = mta['DATE_TIME'].apply(divideDateTime)"
   ]
  },
  {
   "cell_type": "code",
   "execution_count": 84,
   "id": "3aa43fd8",
   "metadata": {},
   "outputs": [
    {
     "data": {
      "text/html": [
       "<div>\n",
       "<style scoped>\n",
       "    .dataframe tbody tr th:only-of-type {\n",
       "        vertical-align: middle;\n",
       "    }\n",
       "\n",
       "    .dataframe tbody tr th {\n",
       "        vertical-align: top;\n",
       "    }\n",
       "\n",
       "    .dataframe thead th {\n",
       "        text-align: right;\n",
       "    }\n",
       "</style>\n",
       "<table border=\"1\" class=\"dataframe\">\n",
       "  <thead>\n",
       "    <tr style=\"text-align: right;\">\n",
       "      <th></th>\n",
       "      <th>STATION</th>\n",
       "      <th>TURNSTILE</th>\n",
       "      <th>DATE</th>\n",
       "      <th>TIME</th>\n",
       "      <th>DATE_TIME</th>\n",
       "      <th>WEEKDAY</th>\n",
       "      <th>ENTRIES</th>\n",
       "      <th>EXITS</th>\n",
       "      <th>NO_OF_ENTRIES</th>\n",
       "      <th>NO_OF_EXITS</th>\n",
       "      <th>TRAFFIC</th>\n",
       "      <th>DAY_PART</th>\n",
       "    </tr>\n",
       "  </thead>\n",
       "  <tbody>\n",
       "    <tr>\n",
       "      <th>1</th>\n",
       "      <td>59 ST</td>\n",
       "      <td>A002 R051 02-00-00 59 ST</td>\n",
       "      <td>02/27/2021</td>\n",
       "      <td>07:00:00</td>\n",
       "      <td>2021-02-27 07:00:00</td>\n",
       "      <td>Saturday</td>\n",
       "      <td>7537260</td>\n",
       "      <td>2570445</td>\n",
       "      <td>5.0</td>\n",
       "      <td>11.0</td>\n",
       "      <td>16.0</td>\n",
       "      <td>MORNING</td>\n",
       "    </tr>\n",
       "    <tr>\n",
       "      <th>2</th>\n",
       "      <td>59 ST</td>\n",
       "      <td>A002 R051 02-00-00 59 ST</td>\n",
       "      <td>02/27/2021</td>\n",
       "      <td>11:00:00</td>\n",
       "      <td>2021-02-27 11:00:00</td>\n",
       "      <td>Saturday</td>\n",
       "      <td>7537285</td>\n",
       "      <td>2570500</td>\n",
       "      <td>25.0</td>\n",
       "      <td>55.0</td>\n",
       "      <td>80.0</td>\n",
       "      <td>MORNING</td>\n",
       "    </tr>\n",
       "    <tr>\n",
       "      <th>3</th>\n",
       "      <td>59 ST</td>\n",
       "      <td>A002 R051 02-00-00 59 ST</td>\n",
       "      <td>02/27/2021</td>\n",
       "      <td>15:00:00</td>\n",
       "      <td>2021-02-27 15:00:00</td>\n",
       "      <td>Saturday</td>\n",
       "      <td>7537354</td>\n",
       "      <td>2570546</td>\n",
       "      <td>69.0</td>\n",
       "      <td>46.0</td>\n",
       "      <td>115.0</td>\n",
       "      <td>AFTERNOON</td>\n",
       "    </tr>\n",
       "    <tr>\n",
       "      <th>4</th>\n",
       "      <td>59 ST</td>\n",
       "      <td>A002 R051 02-00-00 59 ST</td>\n",
       "      <td>02/27/2021</td>\n",
       "      <td>19:00:00</td>\n",
       "      <td>2021-02-27 19:00:00</td>\n",
       "      <td>Saturday</td>\n",
       "      <td>7537501</td>\n",
       "      <td>2570582</td>\n",
       "      <td>147.0</td>\n",
       "      <td>36.0</td>\n",
       "      <td>183.0</td>\n",
       "      <td>EVENING</td>\n",
       "    </tr>\n",
       "    <tr>\n",
       "      <th>5</th>\n",
       "      <td>59 ST</td>\n",
       "      <td>A002 R051 02-00-00 59 ST</td>\n",
       "      <td>02/27/2021</td>\n",
       "      <td>23:00:00</td>\n",
       "      <td>2021-02-27 23:00:00</td>\n",
       "      <td>Saturday</td>\n",
       "      <td>7537589</td>\n",
       "      <td>2570596</td>\n",
       "      <td>88.0</td>\n",
       "      <td>14.0</td>\n",
       "      <td>102.0</td>\n",
       "      <td>EVENING</td>\n",
       "    </tr>\n",
       "  </tbody>\n",
       "</table>\n",
       "</div>"
      ],
      "text/plain": [
       "  STATION                 TURNSTILE        DATE      TIME           DATE_TIME  \\\n",
       "1   59 ST  A002 R051 02-00-00 59 ST  02/27/2021  07:00:00 2021-02-27 07:00:00   \n",
       "2   59 ST  A002 R051 02-00-00 59 ST  02/27/2021  11:00:00 2021-02-27 11:00:00   \n",
       "3   59 ST  A002 R051 02-00-00 59 ST  02/27/2021  15:00:00 2021-02-27 15:00:00   \n",
       "4   59 ST  A002 R051 02-00-00 59 ST  02/27/2021  19:00:00 2021-02-27 19:00:00   \n",
       "5   59 ST  A002 R051 02-00-00 59 ST  02/27/2021  23:00:00 2021-02-27 23:00:00   \n",
       "\n",
       "    WEEKDAY  ENTRIES    EXITS  NO_OF_ENTRIES  NO_OF_EXITS  TRAFFIC   DAY_PART  \n",
       "1  Saturday  7537260  2570445            5.0         11.0     16.0    MORNING  \n",
       "2  Saturday  7537285  2570500           25.0         55.0     80.0    MORNING  \n",
       "3  Saturday  7537354  2570546           69.0         46.0    115.0  AFTERNOON  \n",
       "4  Saturday  7537501  2570582          147.0         36.0    183.0    EVENING  \n",
       "5  Saturday  7537589  2570596           88.0         14.0    102.0    EVENING  "
      ]
     },
     "execution_count": 84,
     "metadata": {},
     "output_type": "execute_result"
    }
   ],
   "source": [
    "mta.head()"
   ]
  },
  {
   "cell_type": "code",
   "execution_count": 36,
   "id": "f9b28777",
   "metadata": {},
   "outputs": [
    {
     "data": {
      "text/plain": [
       "1.0      171797\n",
       "2.0      151099\n",
       "3.0      134902\n",
       "42.0     128107\n",
       "4.0      120754\n",
       "          ...  \n",
       "429.0       391\n",
       "430.0       389\n",
       "428.0       386\n",
       "426.0       385\n",
       "432.0       364\n",
       "Name: NO_OF_ENTRIES, Length: 433, dtype: int64"
      ]
     },
     "execution_count": 36,
     "metadata": {},
     "output_type": "execute_result"
    }
   ],
   "source": [
    "mta.NO_OF_ENTRIES.value_counts()"
   ]
  },
  {
   "cell_type": "code",
   "execution_count": 37,
   "id": "8768eb5c",
   "metadata": {},
   "outputs": [
    {
     "data": {
      "text/html": [
       "<div>\n",
       "<style scoped>\n",
       "    .dataframe tbody tr th:only-of-type {\n",
       "        vertical-align: middle;\n",
       "    }\n",
       "\n",
       "    .dataframe tbody tr th {\n",
       "        vertical-align: top;\n",
       "    }\n",
       "\n",
       "    .dataframe thead th {\n",
       "        text-align: right;\n",
       "    }\n",
       "</style>\n",
       "<table border=\"1\" class=\"dataframe\">\n",
       "  <thead>\n",
       "    <tr style=\"text-align: right;\">\n",
       "      <th></th>\n",
       "      <th></th>\n",
       "      <th>ENTRIES</th>\n",
       "      <th>EXITS</th>\n",
       "      <th>NO_OF_ENTRIES</th>\n",
       "      <th>NO_OF_EXITS</th>\n",
       "      <th>TRAFFIC</th>\n",
       "    </tr>\n",
       "    <tr>\n",
       "      <th>TURNSTILE</th>\n",
       "      <th>DATE_TIME</th>\n",
       "      <th></th>\n",
       "      <th></th>\n",
       "      <th></th>\n",
       "      <th></th>\n",
       "      <th></th>\n",
       "    </tr>\n",
       "  </thead>\n",
       "  <tbody>\n",
       "    <tr>\n",
       "      <th rowspan=\"10\" valign=\"top\">A002 R051 02-00-00 59 ST</th>\n",
       "      <th>2021-02-27 07:00:00</th>\n",
       "      <td>7537260</td>\n",
       "      <td>2570445</td>\n",
       "      <td>5.0</td>\n",
       "      <td>11.0</td>\n",
       "      <td>16.0</td>\n",
       "    </tr>\n",
       "    <tr>\n",
       "      <th>2021-02-27 11:00:00</th>\n",
       "      <td>7537285</td>\n",
       "      <td>2570500</td>\n",
       "      <td>25.0</td>\n",
       "      <td>55.0</td>\n",
       "      <td>80.0</td>\n",
       "    </tr>\n",
       "    <tr>\n",
       "      <th>2021-02-27 15:00:00</th>\n",
       "      <td>7537354</td>\n",
       "      <td>2570546</td>\n",
       "      <td>69.0</td>\n",
       "      <td>46.0</td>\n",
       "      <td>115.0</td>\n",
       "    </tr>\n",
       "    <tr>\n",
       "      <th>2021-02-27 19:00:00</th>\n",
       "      <td>7537501</td>\n",
       "      <td>2570582</td>\n",
       "      <td>147.0</td>\n",
       "      <td>36.0</td>\n",
       "      <td>183.0</td>\n",
       "    </tr>\n",
       "    <tr>\n",
       "      <th>2021-02-27 23:00:00</th>\n",
       "      <td>7537589</td>\n",
       "      <td>2570596</td>\n",
       "      <td>88.0</td>\n",
       "      <td>14.0</td>\n",
       "      <td>102.0</td>\n",
       "    </tr>\n",
       "    <tr>\n",
       "      <th>2021-02-28 03:00:00</th>\n",
       "      <td>7537598</td>\n",
       "      <td>2570598</td>\n",
       "      <td>9.0</td>\n",
       "      <td>2.0</td>\n",
       "      <td>11.0</td>\n",
       "    </tr>\n",
       "    <tr>\n",
       "      <th>2021-02-28 07:00:00</th>\n",
       "      <td>7537602</td>\n",
       "      <td>2570602</td>\n",
       "      <td>4.0</td>\n",
       "      <td>4.0</td>\n",
       "      <td>8.0</td>\n",
       "    </tr>\n",
       "    <tr>\n",
       "      <th>2021-02-28 11:00:00</th>\n",
       "      <td>7537625</td>\n",
       "      <td>2570637</td>\n",
       "      <td>23.0</td>\n",
       "      <td>35.0</td>\n",
       "      <td>58.0</td>\n",
       "    </tr>\n",
       "    <tr>\n",
       "      <th>2021-02-28 15:00:00</th>\n",
       "      <td>7537696</td>\n",
       "      <td>2570671</td>\n",
       "      <td>71.0</td>\n",
       "      <td>34.0</td>\n",
       "      <td>105.0</td>\n",
       "    </tr>\n",
       "    <tr>\n",
       "      <th>2021-02-28 19:00:00</th>\n",
       "      <td>7537791</td>\n",
       "      <td>2570709</td>\n",
       "      <td>95.0</td>\n",
       "      <td>38.0</td>\n",
       "      <td>133.0</td>\n",
       "    </tr>\n",
       "  </tbody>\n",
       "</table>\n",
       "</div>"
      ],
      "text/plain": [
       "                                              ENTRIES    EXITS  NO_OF_ENTRIES  \\\n",
       "TURNSTILE                DATE_TIME                                              \n",
       "A002 R051 02-00-00 59 ST 2021-02-27 07:00:00  7537260  2570445            5.0   \n",
       "                         2021-02-27 11:00:00  7537285  2570500           25.0   \n",
       "                         2021-02-27 15:00:00  7537354  2570546           69.0   \n",
       "                         2021-02-27 19:00:00  7537501  2570582          147.0   \n",
       "                         2021-02-27 23:00:00  7537589  2570596           88.0   \n",
       "                         2021-02-28 03:00:00  7537598  2570598            9.0   \n",
       "                         2021-02-28 07:00:00  7537602  2570602            4.0   \n",
       "                         2021-02-28 11:00:00  7537625  2570637           23.0   \n",
       "                         2021-02-28 15:00:00  7537696  2570671           71.0   \n",
       "                         2021-02-28 19:00:00  7537791  2570709           95.0   \n",
       "\n",
       "                                              NO_OF_EXITS  TRAFFIC  \n",
       "TURNSTILE                DATE_TIME                                  \n",
       "A002 R051 02-00-00 59 ST 2021-02-27 07:00:00         11.0     16.0  \n",
       "                         2021-02-27 11:00:00         55.0     80.0  \n",
       "                         2021-02-27 15:00:00         46.0    115.0  \n",
       "                         2021-02-27 19:00:00         36.0    183.0  \n",
       "                         2021-02-27 23:00:00         14.0    102.0  \n",
       "                         2021-02-28 03:00:00          2.0     11.0  \n",
       "                         2021-02-28 07:00:00          4.0      8.0  \n",
       "                         2021-02-28 11:00:00         35.0     58.0  \n",
       "                         2021-02-28 15:00:00         34.0    105.0  \n",
       "                         2021-02-28 19:00:00         38.0    133.0  "
      ]
     },
     "execution_count": 37,
     "metadata": {},
     "output_type": "execute_result"
    }
   ],
   "source": [
    "mta.groupby(['TURNSTILE','DATE_TIME']).sum().head(10)"
   ]
  },
  {
   "cell_type": "code",
   "execution_count": 38,
   "id": "9827d011",
   "metadata": {},
   "outputs": [
    {
     "data": {
      "text/html": [
       "<div>\n",
       "<style scoped>\n",
       "    .dataframe tbody tr th:only-of-type {\n",
       "        vertical-align: middle;\n",
       "    }\n",
       "\n",
       "    .dataframe tbody tr th {\n",
       "        vertical-align: top;\n",
       "    }\n",
       "\n",
       "    .dataframe thead th {\n",
       "        text-align: right;\n",
       "    }\n",
       "</style>\n",
       "<table border=\"1\" class=\"dataframe\">\n",
       "  <thead>\n",
       "    <tr style=\"text-align: right;\">\n",
       "      <th></th>\n",
       "      <th></th>\n",
       "      <th>ENTRIES</th>\n",
       "      <th>EXITS</th>\n",
       "      <th>NO_OF_ENTRIES</th>\n",
       "      <th>NO_OF_EXITS</th>\n",
       "      <th>TRAFFIC</th>\n",
       "    </tr>\n",
       "    <tr>\n",
       "      <th>STATION</th>\n",
       "      <th>DATE_TIME</th>\n",
       "      <th></th>\n",
       "      <th></th>\n",
       "      <th></th>\n",
       "      <th></th>\n",
       "      <th></th>\n",
       "    </tr>\n",
       "  </thead>\n",
       "  <tbody>\n",
       "    <tr>\n",
       "      <th rowspan=\"10\" valign=\"top\">1 AV</th>\n",
       "      <th>2021-02-27 03:00:00</th>\n",
       "      <td>451163974.0</td>\n",
       "      <td>461798731.0</td>\n",
       "      <td>294.0</td>\n",
       "      <td>273.0</td>\n",
       "      <td>567.0</td>\n",
       "    </tr>\n",
       "    <tr>\n",
       "      <th>2021-02-27 07:00:00</th>\n",
       "      <td>458188104.0</td>\n",
       "      <td>447514200.0</td>\n",
       "      <td>62.0</td>\n",
       "      <td>218.0</td>\n",
       "      <td>280.0</td>\n",
       "    </tr>\n",
       "    <tr>\n",
       "      <th>2021-02-27 11:00:00</th>\n",
       "      <td>462420964.0</td>\n",
       "      <td>466576981.0</td>\n",
       "      <td>593.0</td>\n",
       "      <td>1252.0</td>\n",
       "      <td>1845.0</td>\n",
       "    </tr>\n",
       "    <tr>\n",
       "      <th>2021-02-27 15:00:00</th>\n",
       "      <td>462422200.0</td>\n",
       "      <td>466579111.0</td>\n",
       "      <td>1236.0</td>\n",
       "      <td>2130.0</td>\n",
       "      <td>3366.0</td>\n",
       "    </tr>\n",
       "    <tr>\n",
       "      <th>2021-02-27 19:00:00</th>\n",
       "      <td>462421188.0</td>\n",
       "      <td>466540320.0</td>\n",
       "      <td>1514.0</td>\n",
       "      <td>2321.0</td>\n",
       "      <td>3835.0</td>\n",
       "    </tr>\n",
       "    <tr>\n",
       "      <th>2021-02-27 23:00:00</th>\n",
       "      <td>462424702.0</td>\n",
       "      <td>466583090.0</td>\n",
       "      <td>988.0</td>\n",
       "      <td>1658.0</td>\n",
       "      <td>2646.0</td>\n",
       "    </tr>\n",
       "    <tr>\n",
       "      <th>2021-02-28 03:00:00</th>\n",
       "      <td>462425044.0</td>\n",
       "      <td>466583547.0</td>\n",
       "      <td>342.0</td>\n",
       "      <td>457.0</td>\n",
       "      <td>799.0</td>\n",
       "    </tr>\n",
       "    <tr>\n",
       "      <th>2021-02-28 07:00:00</th>\n",
       "      <td>456604993.0</td>\n",
       "      <td>448511959.0</td>\n",
       "      <td>40.0</td>\n",
       "      <td>165.0</td>\n",
       "      <td>205.0</td>\n",
       "    </tr>\n",
       "    <tr>\n",
       "      <th>2021-02-28 11:00:00</th>\n",
       "      <td>455762877.0</td>\n",
       "      <td>466018753.0</td>\n",
       "      <td>468.0</td>\n",
       "      <td>935.0</td>\n",
       "      <td>1403.0</td>\n",
       "    </tr>\n",
       "    <tr>\n",
       "      <th>2021-02-28 15:00:00</th>\n",
       "      <td>462426613.0</td>\n",
       "      <td>466586507.0</td>\n",
       "      <td>1047.0</td>\n",
       "      <td>1832.0</td>\n",
       "      <td>2879.0</td>\n",
       "    </tr>\n",
       "  </tbody>\n",
       "</table>\n",
       "</div>"
      ],
      "text/plain": [
       "                                 ENTRIES        EXITS  NO_OF_ENTRIES  \\\n",
       "STATION DATE_TIME                                                      \n",
       "1 AV    2021-02-27 03:00:00  451163974.0  461798731.0          294.0   \n",
       "        2021-02-27 07:00:00  458188104.0  447514200.0           62.0   \n",
       "        2021-02-27 11:00:00  462420964.0  466576981.0          593.0   \n",
       "        2021-02-27 15:00:00  462422200.0  466579111.0         1236.0   \n",
       "        2021-02-27 19:00:00  462421188.0  466540320.0         1514.0   \n",
       "        2021-02-27 23:00:00  462424702.0  466583090.0          988.0   \n",
       "        2021-02-28 03:00:00  462425044.0  466583547.0          342.0   \n",
       "        2021-02-28 07:00:00  456604993.0  448511959.0           40.0   \n",
       "        2021-02-28 11:00:00  455762877.0  466018753.0          468.0   \n",
       "        2021-02-28 15:00:00  462426613.0  466586507.0         1047.0   \n",
       "\n",
       "                             NO_OF_EXITS  TRAFFIC  \n",
       "STATION DATE_TIME                                  \n",
       "1 AV    2021-02-27 03:00:00        273.0    567.0  \n",
       "        2021-02-27 07:00:00        218.0    280.0  \n",
       "        2021-02-27 11:00:00       1252.0   1845.0  \n",
       "        2021-02-27 15:00:00       2130.0   3366.0  \n",
       "        2021-02-27 19:00:00       2321.0   3835.0  \n",
       "        2021-02-27 23:00:00       1658.0   2646.0  \n",
       "        2021-02-28 03:00:00        457.0    799.0  \n",
       "        2021-02-28 07:00:00        165.0    205.0  \n",
       "        2021-02-28 11:00:00        935.0   1403.0  \n",
       "        2021-02-28 15:00:00       1832.0   2879.0  "
      ]
     },
     "execution_count": 38,
     "metadata": {},
     "output_type": "execute_result"
    }
   ],
   "source": [
    "mta.groupby(['STATION','DATE_TIME']).sum().head(10)"
   ]
  },
  {
   "cell_type": "code",
   "execution_count": 39,
   "id": "c63358a3",
   "metadata": {},
   "outputs": [
    {
     "name": "stdout",
     "output_type": "stream",
     "text": [
      "<class 'pandas.core.frame.DataFrame'>\n",
      "Int64Index: 4891943 entries, 1 to 6279841\n",
      "Data columns (total 11 columns):\n",
      " #   Column         Dtype         \n",
      "---  ------         -----         \n",
      " 0   STATION        object        \n",
      " 1   TURNSTILE      object        \n",
      " 2   DATE           object        \n",
      " 3   TIME           object        \n",
      " 4   DATE_TIME      datetime64[ns]\n",
      " 5   WEEKDAY        object        \n",
      " 6   ENTRIES        int32         \n",
      " 7   EXITS          int32         \n",
      " 8   NO_OF_ENTRIES  float64       \n",
      " 9   NO_OF_EXITS    float64       \n",
      " 10  TRAFFIC        float64       \n",
      "dtypes: datetime64[ns](1), float64(3), int32(2), object(5)\n",
      "memory usage: 410.5+ MB\n"
     ]
    }
   ],
   "source": [
    "mta.info()"
   ]
  },
  {
   "cell_type": "code",
   "execution_count": 40,
   "id": "5d6e9629",
   "metadata": {},
   "outputs": [
    {
     "data": {
      "text/html": [
       "<div>\n",
       "<style scoped>\n",
       "    .dataframe tbody tr th:only-of-type {\n",
       "        vertical-align: middle;\n",
       "    }\n",
       "\n",
       "    .dataframe tbody tr th {\n",
       "        vertical-align: top;\n",
       "    }\n",
       "\n",
       "    .dataframe thead th {\n",
       "        text-align: right;\n",
       "    }\n",
       "</style>\n",
       "<table border=\"1\" class=\"dataframe\">\n",
       "  <thead>\n",
       "    <tr style=\"text-align: right;\">\n",
       "      <th></th>\n",
       "      <th>STATION</th>\n",
       "      <th>TURNSTILE</th>\n",
       "      <th>DATE</th>\n",
       "      <th>TIME</th>\n",
       "      <th>DATE_TIME</th>\n",
       "      <th>WEEKDAY</th>\n",
       "      <th>ENTRIES</th>\n",
       "      <th>EXITS</th>\n",
       "      <th>NO_OF_ENTRIES</th>\n",
       "      <th>NO_OF_EXITS</th>\n",
       "      <th>TRAFFIC</th>\n",
       "    </tr>\n",
       "  </thead>\n",
       "  <tbody>\n",
       "    <tr>\n",
       "      <th>5070854</th>\n",
       "      <td>125 ST</td>\n",
       "      <td>N026 R102 00-00-00 125 ST</td>\n",
       "      <td>08/16/2021</td>\n",
       "      <td>20:00:00</td>\n",
       "      <td>2021-08-16 20:00:00</td>\n",
       "      <td>Monday</td>\n",
       "      <td>447700</td>\n",
       "      <td>611900</td>\n",
       "      <td>428.0</td>\n",
       "      <td>555.0</td>\n",
       "      <td>983.0</td>\n",
       "    </tr>\n",
       "    <tr>\n",
       "      <th>3012760</th>\n",
       "      <td>JKSN HT-ROOSVLT</td>\n",
       "      <td>N324 R018 00-00-04 JKSN HT-ROOSVLT</td>\n",
       "      <td>06/11/2021</td>\n",
       "      <td>20:00:00</td>\n",
       "      <td>2021-06-11 20:00:00</td>\n",
       "      <td>Friday</td>\n",
       "      <td>5253322</td>\n",
       "      <td>3599057</td>\n",
       "      <td>426.0</td>\n",
       "      <td>553.0</td>\n",
       "      <td>979.0</td>\n",
       "    </tr>\n",
       "    <tr>\n",
       "      <th>2403736</th>\n",
       "      <td>GRAND ST</td>\n",
       "      <td>N520 R240 00-00-00 GRAND ST</td>\n",
       "      <td>05/20/2021</td>\n",
       "      <td>16:00:00</td>\n",
       "      <td>2021-05-20 16:00:00</td>\n",
       "      <td>Thursday</td>\n",
       "      <td>20735160</td>\n",
       "      <td>22692325</td>\n",
       "      <td>430.0</td>\n",
       "      <td>547.0</td>\n",
       "      <td>977.0</td>\n",
       "    </tr>\n",
       "    <tr>\n",
       "      <th>5335701</th>\n",
       "      <td>GRAND ST</td>\n",
       "      <td>N520 R240 00-00-00 GRAND ST</td>\n",
       "      <td>08/23/2021</td>\n",
       "      <td>16:00:00</td>\n",
       "      <td>2021-08-23 16:00:00</td>\n",
       "      <td>Monday</td>\n",
       "      <td>20879514</td>\n",
       "      <td>22926154</td>\n",
       "      <td>433.0</td>\n",
       "      <td>543.0</td>\n",
       "      <td>976.0</td>\n",
       "    </tr>\n",
       "    <tr>\n",
       "      <th>1694995</th>\n",
       "      <td>36 ST</td>\n",
       "      <td>C018 R197 00-00-00 36 ST</td>\n",
       "      <td>04/30/2021</td>\n",
       "      <td>17:00:00</td>\n",
       "      <td>2021-04-30 17:00:00</td>\n",
       "      <td>Friday</td>\n",
       "      <td>221526</td>\n",
       "      <td>328985</td>\n",
       "      <td>427.0</td>\n",
       "      <td>548.0</td>\n",
       "      <td>975.0</td>\n",
       "    </tr>\n",
       "    <tr>\n",
       "      <th>...</th>\n",
       "      <td>...</td>\n",
       "      <td>...</td>\n",
       "      <td>...</td>\n",
       "      <td>...</td>\n",
       "      <td>...</td>\n",
       "      <td>...</td>\n",
       "      <td>...</td>\n",
       "      <td>...</td>\n",
       "      <td>...</td>\n",
       "      <td>...</td>\n",
       "      <td>...</td>\n",
       "    </tr>\n",
       "    <tr>\n",
       "      <th>5472875</th>\n",
       "      <td>6 AV</td>\n",
       "      <td>H003 R163 01-06-00 6 AV</td>\n",
       "      <td>09/03/2021</td>\n",
       "      <td>12:00:00</td>\n",
       "      <td>2021-09-03 12:00:00</td>\n",
       "      <td>Friday</td>\n",
       "      <td>16797279</td>\n",
       "      <td>65343</td>\n",
       "      <td>1.0</td>\n",
       "      <td>1.0</td>\n",
       "      <td>2.0</td>\n",
       "    </tr>\n",
       "    <tr>\n",
       "      <th>2417578</th>\n",
       "      <td>HARRISON</td>\n",
       "      <td>PTH02 R544 00-04-01 HARRISON</td>\n",
       "      <td>05/16/2021</td>\n",
       "      <td>13:29:35</td>\n",
       "      <td>2021-05-16 13:29:35</td>\n",
       "      <td>Sunday</td>\n",
       "      <td>4875</td>\n",
       "      <td>10579</td>\n",
       "      <td>1.0</td>\n",
       "      <td>1.0</td>\n",
       "      <td>2.0</td>\n",
       "    </tr>\n",
       "    <tr>\n",
       "      <th>2417575</th>\n",
       "      <td>HARRISON</td>\n",
       "      <td>PTH02 R544 00-04-01 HARRISON</td>\n",
       "      <td>05/16/2021</td>\n",
       "      <td>00:53:35</td>\n",
       "      <td>2021-05-16 00:53:35</td>\n",
       "      <td>Sunday</td>\n",
       "      <td>4874</td>\n",
       "      <td>10578</td>\n",
       "      <td>1.0</td>\n",
       "      <td>1.0</td>\n",
       "      <td>2.0</td>\n",
       "    </tr>\n",
       "    <tr>\n",
       "      <th>3995492</th>\n",
       "      <td>JAY ST-METROTEC</td>\n",
       "      <td>C004 R089 01-06-00 JAY ST-METROTEC</td>\n",
       "      <td>07/10/2021</td>\n",
       "      <td>04:00:00</td>\n",
       "      <td>2021-07-10 04:00:00</td>\n",
       "      <td>Saturday</td>\n",
       "      <td>659538</td>\n",
       "      <td>418676</td>\n",
       "      <td>1.0</td>\n",
       "      <td>1.0</td>\n",
       "      <td>2.0</td>\n",
       "    </tr>\n",
       "    <tr>\n",
       "      <th>3655371</th>\n",
       "      <td>47-50 STS ROCK</td>\n",
       "      <td>N501A R020 02-06-01 47-50 STS ROCK</td>\n",
       "      <td>06/26/2021</td>\n",
       "      <td>16:00:00</td>\n",
       "      <td>2021-06-26 16:00:00</td>\n",
       "      <td>Saturday</td>\n",
       "      <td>424486</td>\n",
       "      <td>75032</td>\n",
       "      <td>1.0</td>\n",
       "      <td>1.0</td>\n",
       "      <td>2.0</td>\n",
       "    </tr>\n",
       "  </tbody>\n",
       "</table>\n",
       "<p>4891943 rows × 11 columns</p>\n",
       "</div>"
      ],
      "text/plain": [
       "                 STATION                           TURNSTILE        DATE  \\\n",
       "5070854           125 ST           N026 R102 00-00-00 125 ST  08/16/2021   \n",
       "3012760  JKSN HT-ROOSVLT  N324 R018 00-00-04 JKSN HT-ROOSVLT  06/11/2021   \n",
       "2403736         GRAND ST         N520 R240 00-00-00 GRAND ST  05/20/2021   \n",
       "5335701         GRAND ST         N520 R240 00-00-00 GRAND ST  08/23/2021   \n",
       "1694995            36 ST            C018 R197 00-00-00 36 ST  04/30/2021   \n",
       "...                  ...                                 ...         ...   \n",
       "5472875             6 AV             H003 R163 01-06-00 6 AV  09/03/2021   \n",
       "2417578         HARRISON        PTH02 R544 00-04-01 HARRISON  05/16/2021   \n",
       "2417575         HARRISON        PTH02 R544 00-04-01 HARRISON  05/16/2021   \n",
       "3995492  JAY ST-METROTEC  C004 R089 01-06-00 JAY ST-METROTEC  07/10/2021   \n",
       "3655371   47-50 STS ROCK  N501A R020 02-06-01 47-50 STS ROCK  06/26/2021   \n",
       "\n",
       "             TIME           DATE_TIME   WEEKDAY   ENTRIES     EXITS  \\\n",
       "5070854  20:00:00 2021-08-16 20:00:00    Monday    447700    611900   \n",
       "3012760  20:00:00 2021-06-11 20:00:00    Friday   5253322   3599057   \n",
       "2403736  16:00:00 2021-05-20 16:00:00  Thursday  20735160  22692325   \n",
       "5335701  16:00:00 2021-08-23 16:00:00    Monday  20879514  22926154   \n",
       "1694995  17:00:00 2021-04-30 17:00:00    Friday    221526    328985   \n",
       "...           ...                 ...       ...       ...       ...   \n",
       "5472875  12:00:00 2021-09-03 12:00:00    Friday  16797279     65343   \n",
       "2417578  13:29:35 2021-05-16 13:29:35    Sunday      4875     10579   \n",
       "2417575  00:53:35 2021-05-16 00:53:35    Sunday      4874     10578   \n",
       "3995492  04:00:00 2021-07-10 04:00:00  Saturday    659538    418676   \n",
       "3655371  16:00:00 2021-06-26 16:00:00  Saturday    424486     75032   \n",
       "\n",
       "         NO_OF_ENTRIES  NO_OF_EXITS  TRAFFIC  \n",
       "5070854          428.0        555.0    983.0  \n",
       "3012760          426.0        553.0    979.0  \n",
       "2403736          430.0        547.0    977.0  \n",
       "5335701          433.0        543.0    976.0  \n",
       "1694995          427.0        548.0    975.0  \n",
       "...                ...          ...      ...  \n",
       "5472875            1.0          1.0      2.0  \n",
       "2417578            1.0          1.0      2.0  \n",
       "2417575            1.0          1.0      2.0  \n",
       "3995492            1.0          1.0      2.0  \n",
       "3655371            1.0          1.0      2.0  \n",
       "\n",
       "[4891943 rows x 11 columns]"
      ]
     },
     "execution_count": 40,
     "metadata": {},
     "output_type": "execute_result"
    }
   ],
   "source": [
    "mta.sort_values(by='TRAFFIC', ascending= False)"
   ]
  },
  {
   "cell_type": "code",
   "execution_count": 57,
   "id": "6121d7d6",
   "metadata": {},
   "outputs": [
    {
     "data": {
      "image/png": "[encoded data removed]",
      "text/plain": [
       "<Figure size 864x504 with 1 Axes>"
      ]
     },
     "metadata": {
      "needs_background": "light"
     },
     "output_type": "display_data"
    }
   ],
   "source": [
    "week_day_traffic =pd.DataFrame(mta.groupby('WEEKDAY')['TRAFFIC'].sum().sort_values(ascending=False).reset_index())\n",
    "plt.figure(figsize =(12, 7))\n",
    "plt.box(False)\n",
    "plt.barh(week_day_traffic['WEEKDAY'],week_day_traffic['TRAFFIC'])\n",
    "\n",
    "for index, value in enumerate(week_day_traffic['TRAFFIC']):\n",
    "    plt.text(value, index, str(value))"
   ]
  },
  {
   "cell_type": "code",
   "execution_count": 61,
   "id": "86b60577",
   "metadata": {},
   "outputs": [
    {
     "data": {
      "text/html": [
       "<div>\n",
       "<style scoped>\n",
       "    .dataframe tbody tr th:only-of-type {\n",
       "        vertical-align: middle;\n",
       "    }\n",
       "\n",
       "    .dataframe tbody tr th {\n",
       "        vertical-align: top;\n",
       "    }\n",
       "\n",
       "    .dataframe thead th {\n",
       "        text-align: right;\n",
       "    }\n",
       "</style>\n",
       "<table border=\"1\" class=\"dataframe\">\n",
       "  <thead>\n",
       "    <tr style=\"text-align: right;\">\n",
       "      <th></th>\n",
       "      <th>STATION</th>\n",
       "      <th>TRAFFIC</th>\n",
       "    </tr>\n",
       "  </thead>\n",
       "  <tbody>\n",
       "    <tr>\n",
       "      <th>0</th>\n",
       "      <td>34 ST-PENN STA</td>\n",
       "      <td>17242070.0</td>\n",
       "    </tr>\n",
       "    <tr>\n",
       "      <th>1</th>\n",
       "      <td>86 ST</td>\n",
       "      <td>11760861.0</td>\n",
       "    </tr>\n",
       "    <tr>\n",
       "      <th>2</th>\n",
       "      <td>GRD CNTRL-42 ST</td>\n",
       "      <td>11692133.0</td>\n",
       "    </tr>\n",
       "    <tr>\n",
       "      <th>3</th>\n",
       "      <td>34 ST-HERALD SQ</td>\n",
       "      <td>11649135.0</td>\n",
       "    </tr>\n",
       "    <tr>\n",
       "      <th>4</th>\n",
       "      <td>125 ST</td>\n",
       "      <td>11490483.0</td>\n",
       "    </tr>\n",
       "    <tr>\n",
       "      <th>5</th>\n",
       "      <td>23 ST</td>\n",
       "      <td>11232915.0</td>\n",
       "    </tr>\n",
       "    <tr>\n",
       "      <th>6</th>\n",
       "      <td>14 ST-UNION SQ</td>\n",
       "      <td>10919402.0</td>\n",
       "    </tr>\n",
       "  </tbody>\n",
       "</table>\n",
       "</div>"
      ],
      "text/plain": [
       "           STATION     TRAFFIC\n",
       "0   34 ST-PENN STA  17242070.0\n",
       "1            86 ST  11760861.0\n",
       "2  GRD CNTRL-42 ST  11692133.0\n",
       "3  34 ST-HERALD SQ  11649135.0\n",
       "4           125 ST  11490483.0\n",
       "5            23 ST  11232915.0\n",
       "6   14 ST-UNION SQ  10919402.0"
      ]
     },
     "execution_count": 61,
     "metadata": {},
     "output_type": "execute_result"
    }
   ],
   "source": [
    "most_seven_station = pd.DataFrame(mta.groupby('STATION')['TRAFFIC'].sum().sort_values(ascending=False).reset_index())\n",
    "most_seven_station.head(7)"
   ]
  },
  {
   "cell_type": "code",
   "execution_count": 62,
   "id": "48496f3a",
   "metadata": {},
   "outputs": [],
   "source": [
    "top_seven = ('34 ST-PENN STA','86 ST','GRD CNTRL-42 ST','34 ST-HERALD SQ','125 ST','23 ST','14 ST-UNION SQ')"
   ]
  },
  {
   "cell_type": "code",
   "execution_count": 72,
   "id": "7695bf3c",
   "metadata": {},
   "outputs": [
    {
     "data": {
      "text/html": [
       "<div>\n",
       "<style scoped>\n",
       "    .dataframe tbody tr th:only-of-type {\n",
       "        vertical-align: middle;\n",
       "    }\n",
       "\n",
       "    .dataframe tbody tr th {\n",
       "        vertical-align: top;\n",
       "    }\n",
       "\n",
       "    .dataframe thead th {\n",
       "        text-align: right;\n",
       "    }\n",
       "</style>\n",
       "<table border=\"1\" class=\"dataframe\">\n",
       "  <thead>\n",
       "    <tr style=\"text-align: right;\">\n",
       "      <th></th>\n",
       "      <th>TIME</th>\n",
       "      <th>TRAFFIC</th>\n",
       "    </tr>\n",
       "  </thead>\n",
       "  <tbody>\n",
       "    <tr>\n",
       "      <th>70616</th>\n",
       "      <td>03:51:28</td>\n",
       "      <td>2.0</td>\n",
       "    </tr>\n",
       "    <tr>\n",
       "      <th>70617</th>\n",
       "      <td>00:26:54</td>\n",
       "      <td>2.0</td>\n",
       "    </tr>\n",
       "    <tr>\n",
       "      <th>70618</th>\n",
       "      <td>06:20:02</td>\n",
       "      <td>2.0</td>\n",
       "    </tr>\n",
       "    <tr>\n",
       "      <th>70619</th>\n",
       "      <td>05:54:03</td>\n",
       "      <td>2.0</td>\n",
       "    </tr>\n",
       "    <tr>\n",
       "      <th>70620</th>\n",
       "      <td>04:41:33</td>\n",
       "      <td>2.0</td>\n",
       "    </tr>\n",
       "    <tr>\n",
       "      <th>70621</th>\n",
       "      <td>05:00:49</td>\n",
       "      <td>2.0</td>\n",
       "    </tr>\n",
       "    <tr>\n",
       "      <th>70622</th>\n",
       "      <td>06:36:45</td>\n",
       "      <td>2.0</td>\n",
       "    </tr>\n",
       "    <tr>\n",
       "      <th>70623</th>\n",
       "      <td>02:26:13</td>\n",
       "      <td>2.0</td>\n",
       "    </tr>\n",
       "    <tr>\n",
       "      <th>70624</th>\n",
       "      <td>20:35:01</td>\n",
       "      <td>2.0</td>\n",
       "    </tr>\n",
       "    <tr>\n",
       "      <th>70625</th>\n",
       "      <td>17:03:21</td>\n",
       "      <td>2.0</td>\n",
       "    </tr>\n",
       "    <tr>\n",
       "      <th>70626</th>\n",
       "      <td>03:31:54</td>\n",
       "      <td>2.0</td>\n",
       "    </tr>\n",
       "    <tr>\n",
       "      <th>70627</th>\n",
       "      <td>01:28:24</td>\n",
       "      <td>2.0</td>\n",
       "    </tr>\n",
       "    <tr>\n",
       "      <th>70628</th>\n",
       "      <td>06:08:49</td>\n",
       "      <td>2.0</td>\n",
       "    </tr>\n",
       "    <tr>\n",
       "      <th>70629</th>\n",
       "      <td>16:27:21</td>\n",
       "      <td>2.0</td>\n",
       "    </tr>\n",
       "    <tr>\n",
       "      <th>70630</th>\n",
       "      <td>05:15:49</td>\n",
       "      <td>2.0</td>\n",
       "    </tr>\n",
       "  </tbody>\n",
       "</table>\n",
       "</div>"
      ],
      "text/plain": [
       "           TIME  TRAFFIC\n",
       "70616  03:51:28      2.0\n",
       "70617  00:26:54      2.0\n",
       "70618  06:20:02      2.0\n",
       "70619  05:54:03      2.0\n",
       "70620  04:41:33      2.0\n",
       "70621  05:00:49      2.0\n",
       "70622  06:36:45      2.0\n",
       "70623  02:26:13      2.0\n",
       "70624  20:35:01      2.0\n",
       "70625  17:03:21      2.0\n",
       "70626  03:31:54      2.0\n",
       "70627  01:28:24      2.0\n",
       "70628  06:08:49      2.0\n",
       "70629  16:27:21      2.0\n",
       "70630  05:15:49      2.0"
      ]
     },
     "execution_count": 72,
     "metadata": {},
     "output_type": "execute_result"
    }
   ],
   "source": [
    "most_crowded_hours = pd.DataFrame(mta.groupby('TIME')['TRAFFIC'].sum().sort_values(ascending=False).reset_index())\n",
    "most_crowded_hours.tail(15)"
   ]
  },
  {
   "cell_type": "code",
   "execution_count": 85,
   "id": "d6235efa",
   "metadata": {},
   "outputs": [
    {
     "data": {
      "text/html": [
       "<div>\n",
       "<style scoped>\n",
       "    .dataframe tbody tr th:only-of-type {\n",
       "        vertical-align: middle;\n",
       "    }\n",
       "\n",
       "    .dataframe tbody tr th {\n",
       "        vertical-align: top;\n",
       "    }\n",
       "\n",
       "    .dataframe thead th {\n",
       "        text-align: right;\n",
       "    }\n",
       "</style>\n",
       "<table border=\"1\" class=\"dataframe\">\n",
       "  <thead>\n",
       "    <tr style=\"text-align: right;\">\n",
       "      <th></th>\n",
       "      <th>DAY_PART</th>\n",
       "      <th>TRAFFIC</th>\n",
       "    </tr>\n",
       "  </thead>\n",
       "  <tbody>\n",
       "    <tr>\n",
       "      <th>0</th>\n",
       "      <td>AFTERNOON</td>\n",
       "      <td>231025826.0</td>\n",
       "    </tr>\n",
       "    <tr>\n",
       "      <th>1</th>\n",
       "      <td>MORNING</td>\n",
       "      <td>195496551.0</td>\n",
       "    </tr>\n",
       "    <tr>\n",
       "      <th>2</th>\n",
       "      <td>EVENING</td>\n",
       "      <td>187141456.0</td>\n",
       "    </tr>\n",
       "    <tr>\n",
       "      <th>3</th>\n",
       "      <td>NIGHT</td>\n",
       "      <td>80513580.0</td>\n",
       "    </tr>\n",
       "  </tbody>\n",
       "</table>\n",
       "</div>"
      ],
      "text/plain": [
       "    DAY_PART      TRAFFIC\n",
       "0  AFTERNOON  231025826.0\n",
       "1    MORNING  195496551.0\n",
       "2    EVENING  187141456.0\n",
       "3      NIGHT   80513580.0"
      ]
     },
     "execution_count": 85,
     "metadata": {},
     "output_type": "execute_result"
    }
   ],
   "source": [
    "most_traffic_daypart = pd.DataFrame(mta.groupby('DAY_PART')['TRAFFIC'].sum().sort_values(ascending=False).reset_index())\n",
    "most_traffic_daypart.head()"
   ]
  },
  {
   "cell_type": "code",
   "execution_count": null,
   "id": "0e85cf51",
   "metadata": {},
   "outputs": [],
   "source": []
  }
 ],
 "metadata": {
  "kernelspec": {
   "display_name": "Python 3",
   "language": "python",
   "name": "python3"
  },
  "language_info": {
   "codemirror_mode": {
    "name": "ipython",
    "version": 3
   },
   "file_extension": ".py",
   "mimetype": "text/x-python",
   "name": "python",
   "nbconvert_exporter": "python",
   "pygments_lexer": "ipython3",
   "version": "3.8.8"
  }
 },
 "nbformat": 4,
 "nbformat_minor": 5
}
